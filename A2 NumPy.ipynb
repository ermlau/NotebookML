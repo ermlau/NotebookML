{
 "cells": [
  {
   "cell_type": "markdown",
   "metadata": {},
   "source": [
    "*Contenuti*\n",
    "===\n",
    "- [La libreria NumPy](#La-libreria-NumPy)\n",
    "    - [Gli array](#Gli-array)\n",
    "    - [Costruzione](#Costruzione)\n",
    "    - [Accesso ai singoli elementi](#Accesso-ai-singoli-elementi)\n",
    "    - [*shape*, *size* e *ndim*](#shape,-size-e-ndim)\n",
    "    - [Slicing e accesso a singole dimensioni](#Slicing-e-accesso-a-singole-dimensioni)\n",
    "    - [Generazione di numeri casuali](#Generazione-di-numeri-casuali)\n",
    "    - [Operazioni aggregate e *axes*](#Operazioni-aggregate-e-axes)\n",
    "    - [*stack* e *split*](#stack-e-split)\n",
    "    - [Aritmetica degli array](#Aritmetica-degli-array)\n",
    "    - [*Esercizio 5*](#Esercizio-5)\n",
    "    - [*Esercizio 6*](#Esercizio-6)\n",
    "    - [*Esercizio 7*](#Esercizio-7)"
   ]
  },
  {
   "cell_type": "markdown",
   "metadata": {},
   "source": [
    "La libreria NumPy\n",
    "===\n",
    "\n",
    "Ecosistema Python per la data science :\n",
    " - NumPy         =>  calcolo vettoriale\n",
    " - Pandas        =>  analisi e gestione dei dati (basato su NumPy)\n",
    " - Matplotlib    =>  visualizzazione\n",
    " - Scikit-learn  =>  preprocessing e apprendimento\n",
    " - Keras         =>  reti neurali\n",
    "\n",
    "l'interfaccia grafica / ambiente usato è Jupyter\n",
    "\n",
    "A [questo link](https://jakevdp.github.io/PythonDataScienceHandbook/02.00-introduction-to-numpy.html) c'è un estratto del *Python Data Science Handbook* dedicato a NumPy.\n",
    "\n",
    "Per poter utilizzare NumPy lo *importiamo*"
   ]
  },
  {
   "cell_type": "code",
   "execution_count": 24,
   "metadata": {},
   "outputs": [
    {
     "name": "stdout",
     "output_type": "stream",
     "text": [
      "1.19.2\n"
     ]
    }
   ],
   "source": [
    "import numpy as np\n",
    "from IPython.display import Image # libreria per caricamento immagini in pagina\n",
    "print(np.__version__)"
   ]
  },
  {
   "cell_type": "markdown",
   "metadata": {},
   "source": [
    "L'oggetto più importante definito in NumPy è l'array N-dimensionale chiamato **ndarray**. <br>\n",
    "Un ndarray è una raccolta di elementi dello **stesso tipo**. È possibile accedere agli elementi della raccolta utilizzando un indice in base zero.\n",
    "\n",
    "Ogni elemento in un ndarray occupa la stessa dimensione del blocco nella memoria. Ogni elemento in un ndarray è un'istanza del tipo specificato nel 'data-type object' dell'ndarray. (il data-type object è chiamato **dtype**)\n",
    "\n",
    "Qualsiasi elemento estratto dall'oggetto ndarray (tramite slicing) è rappresentato da un oggetto Python di uno dei tipi scalari dell'array. Il diagramma seguente mostra una relazione tra ndarray, oggetto tipo di dati (dtype) e tipo scalare array"
   ]
  },
  {
   "cell_type": "code",
   "execution_count": 25,
   "metadata": {},
   "outputs": [
    {
     "data": {
      "image/jpeg": "[encoded data removed]",
      "text/plain": [
       "<IPython.core.display.Image object>"
      ]
     },
     "execution_count": 25,
     "metadata": {
      "image/jpeg": {
       "height": 918,
       "width": 656
      }
     },
     "output_type": "execute_result"
    }
   ],
   "source": [
    "ImageDisp(filename = \"images\\\\ndarray.jpg\", width=656, height=918)"
   ]
  },
  {
   "cell_type": "markdown",
   "metadata": {},
   "source": [
    "https://www.tutorialspoint.com/numpy/numpy_ndarray_object.htm\n",
    "\n",
    "L'oggetto ndarray consiste in un segmento unidimensionale contiguo di memoria del computer, combinato con uno schema di indicizzazione che mappa ogni elemento in una posizione nel blocco di memoria. <br>\n",
    "In altre parole sono i vecchi array in C."
   ]
  },
  {
   "cell_type": "markdown",
   "metadata": {},
   "source": [
    "Gli *array*\n",
    "---\n",
    "Per NumPy, ogni vettore o matrice è un *array*.\n",
    "\n",
    "**Array**: *Insieme organizzato di elementi omogenei, identificati da uno stesso nome e da uno o più indici*."
   ]
  },
  {
   "cell_type": "markdown",
   "metadata": {},
   "source": [
    "Costruzione\n",
    "---\n",
    "Un array NumPy si può costruire in vari modi; per esempio, a partire da una lista Python."
   ]
  },
  {
   "cell_type": "code",
   "execution_count": 26,
   "metadata": {},
   "outputs": [
    {
     "name": "stdout",
     "output_type": "stream",
     "text": [
      "[3, 7, 2, 0, 6, 2]\n",
      "[3 7 2 0 6 2]\n"
     ]
    }
   ],
   "source": [
    "python_lst = [3,7,2,0,6,2]\n",
    "np_array = np.array(python_lst)\n",
    "print(python_lst)\n",
    "print(np_array)"
   ]
  },
  {
   "cell_type": "code",
   "execution_count": 27,
   "metadata": {},
   "outputs": [
    {
     "name": "stdout",
     "output_type": "stream",
     "text": [
      "<class 'list'>\n",
      "<class 'numpy.ndarray'>\n"
     ]
    }
   ],
   "source": [
    "print(type(python_lst))\n",
    "print(type(np_array))"
   ]
  },
  {
   "cell_type": "markdown",
   "metadata": {},
   "source": [
    "### creazione di una matrice a partire da due array\n",
    "\n",
    "Le funzioni hstack e vstack prendono in ingresso una lista di array e li affiancano orizzontalmente (h) o verticalmente (v).\n",
    "\n",
    "C = np.hstack([A,B]) <br>\n",
    "C = np.vstack([A,B])\n"
   ]
  },
  {
   "cell_type": "code",
   "execution_count": 28,
   "metadata": {},
   "outputs": [
    {
     "data": {
      "image/png": "[encoded data removed]",
      "text/plain": [
       "<IPython.core.display.Image object>"
      ]
     },
     "execution_count": 28,
     "metadata": {
      "image/png": {
       "height": 918,
       "width": 656
      }
     },
     "output_type": "execute_result"
    }
   ],
   "source": [
    "ImageDisp(filename = \"images\\\\stack.png\", width=656, height=918)"
   ]
  },
  {
   "cell_type": "markdown",
   "metadata": {},
   "source": [
    "### full ( ([righe],[colonne]) , [valore] )\n",
    "\n",
    "La funzione *full* genera un array con un numero assegnato di righe e colonne, e riempe tutte le sue posizioni con un singolo valore, anche questo assegnato.\n",
    "\n",
    "**Nota**: NumPy tratta come array sia le matrici che i vettori (singola riga o colonna). \n",
    "Per comodità di lettura, anche se non è obbligatorio, chiameremo :\n",
    "    - le variabili che contengono le matrici con la lettera maiuscola : Esempio\n",
    "    - mentre utilizzeremo la minuscola per i vettori : esempio"
   ]
  },
  {
   "cell_type": "code",
   "execution_count": 29,
   "metadata": {},
   "outputs": [
    {
     "data": {
      "text/plain": [
       "array([[7, 7, 7],\n",
       "       [7, 7, 7],\n",
       "       [7, 7, 7],\n",
       "       [7, 7, 7],\n",
       "       [7, 7, 7]])"
      ]
     },
     "execution_count": 29,
     "metadata": {},
     "output_type": "execute_result"
    }
   ],
   "source": [
    "A = np.full((5,3), 7)\n",
    "\n",
    "A"
   ]
  },
  {
   "cell_type": "markdown",
   "metadata": {},
   "source": [
    "### zeros e ones\n",
    "\n",
    "Le funzioni *zeros* e *ones* sono casi particolari di full, e producono array rispettivamente di soli zero e uno."
   ]
  },
  {
   "cell_type": "code",
   "execution_count": 30,
   "metadata": {},
   "outputs": [
    {
     "data": {
      "text/plain": [
       "array([[0., 0., 0.],\n",
       "       [0., 0., 0.],\n",
       "       [0., 0., 0.],\n",
       "       [0., 0., 0.],\n",
       "       [0., 0., 0.]])"
      ]
     },
     "execution_count": 30,
     "metadata": {},
     "output_type": "execute_result"
    }
   ],
   "source": [
    "np.zeros((5,3))"
   ]
  },
  {
   "cell_type": "code",
   "execution_count": 31,
   "metadata": {},
   "outputs": [
    {
     "data": {
      "text/plain": [
       "array([[1., 1., 1., 1., 1., 1., 1.],\n",
       "       [1., 1., 1., 1., 1., 1., 1.]])"
      ]
     },
     "execution_count": 31,
     "metadata": {},
     "output_type": "execute_result"
    }
   ],
   "source": [
    "np.ones((2,7))"
   ]
  },
  {
   "cell_type": "markdown",
   "metadata": {},
   "source": [
    "La funzione *arange* viene usata per generare numeri in un intervallo."
   ]
  },
  {
   "cell_type": "code",
   "execution_count": 32,
   "metadata": {},
   "outputs": [
    {
     "data": {
      "text/plain": [
       "array([0, 1, 2, 3, 4, 5, 6, 7, 8, 9])"
      ]
     },
     "execution_count": 32,
     "metadata": {},
     "output_type": "execute_result"
    }
   ],
   "source": [
    "np.arange(10)"
   ]
  },
  {
   "cell_type": "markdown",
   "metadata": {},
   "source": [
    "Accesso ai singoli elementi\n",
    "---\n",
    "Come per le liste Python, si accede agli elementi di un array NumPy attraverso le parentesi quadre."
   ]
  },
  {
   "cell_type": "code",
   "execution_count": 33,
   "metadata": {},
   "outputs": [
    {
     "data": {
      "text/plain": [
       "1"
      ]
     },
     "execution_count": 33,
     "metadata": {},
     "output_type": "execute_result"
    }
   ],
   "source": [
    "a = np.array([1,2,3,4,5,6,7,8])\n",
    "\n",
    "a[0]"
   ]
  },
  {
   "cell_type": "markdown",
   "metadata": {},
   "source": [
    "Per convenzione, nelle matrici il primo indice è quello delle righe."
   ]
  },
  {
   "cell_type": "code",
   "execution_count": 34,
   "metadata": {},
   "outputs": [
    {
     "data": {
      "text/plain": [
       "array([1, 2, 3, 4])"
      ]
     },
     "execution_count": 34,
     "metadata": {},
     "output_type": "execute_result"
    }
   ],
   "source": [
    "A = np.array([[1,2,3,4],\n",
    "              [5,6,7,8]])\n",
    "\n",
    "A[0]"
   ]
  },
  {
   "cell_type": "code",
   "execution_count": 35,
   "metadata": {},
   "outputs": [
    {
     "data": {
      "text/plain": [
       "7"
      ]
     },
     "execution_count": 35,
     "metadata": {},
     "output_type": "execute_result"
    }
   ],
   "source": [
    "A[1][2]#elemento in posizione (colonna) 2 della riga 1"
   ]
  },
  {
   "cell_type": "code",
   "execution_count": 36,
   "metadata": {},
   "outputs": [
    {
     "data": {
      "text/plain": [
       "7"
      ]
     },
     "execution_count": 36,
     "metadata": {},
     "output_type": "execute_result"
    }
   ],
   "source": [
    "A[1,2] # oppure si può anche usare questa altra notazione sempre per la posizione (colonna) 2 della riga 1"
   ]
  },
  {
   "cell_type": "markdown",
   "metadata": {},
   "source": [
    "*shape* e *reshape* \n",
    "---\n",
    "Un array NumPy ha alcune proprietà legate alla sua struttura. \n",
    "\n",
    "Come abbiamo visto con full, zeros e ones, è possibile indicare il numero di righe e colonne di un array. La coppia di questi valori è detta *shape*, ed è una proprietà di ogni array."
   ]
  },
  {
   "cell_type": "code",
   "execution_count": 37,
   "metadata": {},
   "outputs": [
    {
     "data": {
      "text/plain": [
       "(2, 4)"
      ]
     },
     "execution_count": 37,
     "metadata": {},
     "output_type": "execute_result"
    }
   ],
   "source": [
    "A.shape"
   ]
  },
  {
   "cell_type": "markdown",
   "metadata": {},
   "source": [
    "Un array NumPy si può convenientemente rimodellare con la funzione *reshape*. Il nuovo numero di righe e colonne deve essere coerente con quello di partenza."
   ]
  },
  {
   "cell_type": "code",
   "execution_count": 38,
   "metadata": {},
   "outputs": [
    {
     "data": {
      "text/plain": [
       "array([[1, 2],\n",
       "       [3, 4],\n",
       "       [5, 6],\n",
       "       [7, 8]])"
      ]
     },
     "execution_count": 38,
     "metadata": {},
     "output_type": "execute_result"
    }
   ],
   "source": [
    "B = A.reshape(4,2) # reshape([dimz],[dimj],[dimk], ... [righe],[colonne]])\n",
    "\n",
    "B"
   ]
  },
  {
   "cell_type": "code",
   "execution_count": 39,
   "metadata": {},
   "outputs": [
    {
     "data": {
      "text/plain": [
       "(4, 2)"
      ]
     },
     "execution_count": 39,
     "metadata": {},
     "output_type": "execute_result"
    }
   ],
   "source": [
    "B.shape"
   ]
  },
  {
   "cell_type": "code",
   "execution_count": 41,
   "metadata": {},
   "outputs": [],
   "source": [
    "C = B.reshape(2,4)"
   ]
  },
  {
   "cell_type": "code",
   "execution_count": 45,
   "metadata": {},
   "outputs": [
    {
     "name": "stdout",
     "output_type": "stream",
     "text": [
      "[[ 0  1  2]\n",
      " [ 3  4  5]\n",
      " [ 6  7  8]\n",
      " [ 9 10 11]\n",
      " [12 13 14]]\n",
      "elemento di posizione 0 nella terza dimensione 2° riga e 3° di colonna  =>  5 oppure 5\n",
      "dimensione b :  3\n",
      "[[ 0  1  2  3  4  5]\n",
      " [ 6  7  8  9 10 11]]\n",
      "dimensione c :  3\n",
      "[[[ 0  1  2]\n",
      "  [ 3  4  5]]\n",
      "\n",
      " [[ 6  7  8]\n",
      "  [ 9 10 11]]\n",
      "\n",
      " [[12 13 14]\n",
      "  [15 16 17]]\n",
      "\n",
      " [[18 19 20]\n",
      "  [21 22 23]]\n",
      "\n",
      " [[24 25 26]\n",
      "  [27 28 29]]]\n",
      "dimensione d :  4\n",
      "size = 60\n"
     ]
    }
   ],
   "source": [
    "a = np.arange(60)\n",
    "b = a.reshape(4,5,3)\n",
    "print(b[0])\n",
    "print('elemento di posizione 0 nella terza dimensione 2° riga e 3° di colonna  => ' , b[0,1,2] , 'oppure' , b[0][1][2])\n",
    "print('dimensione b : ' , b.ndim)\n",
    "c = b.reshape(5,2,6)\n",
    "print(c[0])\n",
    "print('dimensione c : ' , c.ndim)\n",
    "d = c.reshape(2,5,2,3)\n",
    "print(d[0])\n",
    "print('dimensione d : ' , d.ndim)\n",
    "print('size = {}'.format(d.size))"
   ]
  },
  {
   "cell_type": "markdown",
   "metadata": {},
   "source": [
    "**ndim** restituisce la grandezza dell'array. Nel caso di un ndarray restituisce la grandezza della prima dimensione ovvero la dimensionalità dell'array. Se ad esempio abbiamo un array bidimensionale con righe e colonne avremo ndim = 2. Se invece abbiamo un array tridimensionale con righe, colonne e asse z avremo ndim = 3 !"
   ]
  },
  {
   "cell_type": "markdown",
   "metadata": {},
   "source": [
    "**size** restituisce il numero di elementi nell'array"
   ]
  },
  {
   "cell_type": "markdown",
   "metadata": {},
   "source": [
    "*size*\n",
    "---\n",
    "La proprietà *size* indica quanti elementi sono contenuti in un array."
   ]
  },
  {
   "cell_type": "code",
   "execution_count": null,
   "metadata": {},
   "outputs": [],
   "source": [
    "a = np.array([1,2,3,4,5,6,7,8])\n",
    "\n",
    "a.size"
   ]
  },
  {
   "cell_type": "code",
   "execution_count": null,
   "metadata": {},
   "outputs": [],
   "source": [
    "B = a.reshape(4,2)\n",
    "\n",
    "B.size"
   ]
  },
  {
   "cell_type": "code",
   "execution_count": null,
   "metadata": {},
   "outputs": [],
   "source": [
    "np.full((10,10), 0).size"
   ]
  },
  {
   "cell_type": "markdown",
   "metadata": {},
   "source": [
    "Come abbiamo detto, per NumPy ogni oggetto vettoriale è trattato come un array. Questi possono avere un numero di dimensioni a piacere.\n",
    "\n",
    "In matematica, un vettore è formato da una sola riga (o colonna), ed ha quindi una sola dimensione. Una matrice, che ha righe e colonne, ha due dimensioni. **L'estensione di una matrice a più di due dimensioni è detta *tensore*.**\n",
    "\n",
    "Un filmato può essere rappresentato come un tensore: ogni frame che lo compone è una matrice di pixel, e ciascuno di essi è sistemato sulla terza dimensione, quella del tempo.\n",
    "\n",
    "Ovviamente il tensore del filmato a colori ha dimensione 3 perchè le prime due sono altezza e larghezza mentre la terza dimensione sono i canali colore rgb.\n",
    "\n",
    "---"
   ]
  },
  {
   "cell_type": "markdown",
   "metadata": {},
   "source": [
    "*ndim*\n",
    "---\n",
    "Attraverso la proprietà *ndim* si può accedere al numero di dimensioni di un array."
   ]
  },
  {
   "cell_type": "code",
   "execution_count": null,
   "metadata": {},
   "outputs": [],
   "source": [
    "a = np.arange(24) #24 elementi\n",
    "\n",
    "print(a)\n",
    "print(a.ndim)"
   ]
  },
  {
   "cell_type": "code",
   "execution_count": null,
   "metadata": {},
   "outputs": [],
   "source": [
    "B = a.reshape(6,4)#6 righe, ciascuna con 4 elementi\n",
    "\n",
    "print(B)\n",
    "print(B.ndim)"
   ]
  },
  {
   "cell_type": "code",
   "execution_count": null,
   "metadata": {},
   "outputs": [],
   "source": [
    "C = a.reshape(3,2,4)#'3 matrici, ciascuna con 2 righe, ciascuna delle quali con 4 elementi'\n",
    "\n",
    "print(C)\n",
    "print(C.ndim)"
   ]
  },
  {
   "cell_type": "markdown",
   "metadata": {},
   "source": [
    "Mentre ndim è il numero di dimensioni di un array, shape indica la *profondità* di ogni dimensione. \n",
    "Tornando all'esempio del filmato a colori, avremo\n",
    "- ndim = 4: tempo, $y$, $x$, colori\n",
    "- shape = (\\# frame del filmato, \\# pixel sulla $y$, \\# pixel sulla $x$, 3 livelli di colore).\n"
   ]
  },
  {
   "cell_type": "markdown",
   "metadata": {},
   "source": [
    "Slicing e accesso a singole dimensioni\n",
    "---\n",
    "NumPy prevede operazioni di slicing simili a quelle viste per le liste Python."
   ]
  },
  {
   "cell_type": "code",
   "execution_count": null,
   "metadata": {},
   "outputs": [],
   "source": [
    "a = np.arange(10)\n",
    "\n",
    "print(a[:3])\n",
    "print(a[3:])"
   ]
  },
  {
   "cell_type": "markdown",
   "metadata": {},
   "source": [
    "Si può accedere ad intervalli o gruppi di singole righe e colonne con una sintassi molto compatta. Il simbolo ':' indica tutti gli elementi lungo una dimensione."
   ]
  },
  {
   "cell_type": "code",
   "execution_count": null,
   "metadata": {},
   "outputs": [],
   "source": [
    "A = np.arange(48).reshape(6,8)\n",
    "\n",
    "A"
   ]
  },
  {
   "cell_type": "code",
   "execution_count": null,
   "metadata": {},
   "outputs": [],
   "source": [
    "A[:,0]#(tutte le righe,) la prima colonna"
   ]
  },
  {
   "cell_type": "code",
   "execution_count": null,
   "metadata": {},
   "outputs": [],
   "source": [
    "A[:,-1]#(tutte le righe,) l'ultima colonna"
   ]
  },
  {
   "cell_type": "code",
   "execution_count": null,
   "metadata": {},
   "outputs": [],
   "source": [
    "A[0,:]#la prima riga (, tutte le colonne) "
   ]
  },
  {
   "cell_type": "code",
   "execution_count": null,
   "metadata": {},
   "outputs": [],
   "source": [
    "A[1:4, -1]#righe dalla posizione 1 (inclusa) alla posizione 4 (esclusa), ultima colonna"
   ]
  },
  {
   "cell_type": "code",
   "execution_count": null,
   "metadata": {},
   "outputs": [],
   "source": [
    "rows_to_keep = [1,2,-1]\n",
    "\n",
    "A[rows_to_keep, :]#righe con indici selezionati, tutte le colonne"
   ]
  },
  {
   "cell_type": "code",
   "execution_count": null,
   "metadata": {},
   "outputs": [],
   "source": [
    "A[rows_to_keep, 2:5]#righe con indici selezionati, intervallo di colonne"
   ]
  },
  {
   "cell_type": "code",
   "execution_count": null,
   "metadata": {},
   "outputs": [],
   "source": [
    "cols_to_keep = [3,5]\n",
    "\n",
    "A[:, cols_to_keep]#tutte le righe, colonne con indici selezionati "
   ]
  },
  {
   "cell_type": "markdown",
   "metadata": {},
   "source": [
    "Anche una singola immagine RGB è un tensore. Vediamo un esempio di elaborazione immagini con NumPy."
   ]
  },
  {
   "cell_type": "code",
   "execution_count": null,
   "metadata": {},
   "outputs": [],
   "source": [
    "from PIL import Image \n",
    "import matplotlib.pyplot as plt\n",
    "\n",
    "image = Image.open('data/trump.jpg')\n",
    "plt.imshow(image)"
   ]
  },
  {
   "cell_type": "code",
   "execution_count": null,
   "metadata": {},
   "outputs": [],
   "source": [
    "np_img = np.array(image)\n",
    "\n",
    "print('shape:', np_img.shape)\n",
    "print('ndim: ', np_img.ndim)\n",
    "print('size: ', np_img.size)#cosa indica?"
   ]
  },
  {
   "cell_type": "code",
   "execution_count": null,
   "metadata": {},
   "outputs": [],
   "source": [
    "reds = np_img[:, :, 0]\n",
    "greens = np_img[:, :, 1]\n",
    "blues = np_img[:, :, 2]\n",
    "\n",
    "print(reds.shape, greens.shape, blues.shape)"
   ]
  },
  {
   "cell_type": "code",
   "execution_count": null,
   "metadata": {},
   "outputs": [],
   "source": [
    "plt.imshow(reds)"
   ]
  },
  {
   "cell_type": "markdown",
   "metadata": {},
   "source": [
    "random - Generazione di numeri casuali\n",
    "---\n",
    "Il modulo *random* gestisce la generazione di (array di numeri) casuali da vari tipi di distribuzione statistica: https://docs.scipy.org/doc/numpy-1.14.0/reference/routines.random.html.\n"
   ]
  },
  {
   "cell_type": "code",
   "execution_count": null,
   "metadata": {},
   "outputs": [],
   "source": [
    "import numpy.random as rdm\n",
    "\n",
    "a = rdm.random()#uniforme continua in [0.0, 1.0)\n",
    "\n",
    "a"
   ]
  },
  {
   "cell_type": "code",
   "execution_count": null,
   "metadata": {},
   "outputs": [],
   "source": [
    "A = rdm.random((5,5))#uniforme continua in [0.0, 1.0), shape assegnata\n",
    "\n",
    "A"
   ]
  },
  {
   "cell_type": "code",
   "execution_count": null,
   "metadata": {},
   "outputs": [],
   "source": [
    "B = rdm.randint(0, 10, (4,5))#uniforme discreta in [0,10), shape assegnata\n",
    "\n",
    "B"
   ]
  },
  {
   "cell_type": "code",
   "execution_count": null,
   "metadata": {},
   "outputs": [],
   "source": [
    "C = rdm.normal(3, 1, (4,5))#normale con media 3 e deviazione standard 1, shape assegnata\n",
    "\n",
    "C"
   ]
  },
  {
   "cell_type": "markdown",
   "metadata": {},
   "source": [
    "Operazioni aggregate e *axes*\n",
    "---\n",
    "Quando si ha a che fare con grandi quantità di dati, l'estrazione di statistiche globali descrittive è una delle prime possibili analisi. Vediamo qualche *operazione aggregata* sugli array NumPy."
   ]
  },
  {
   "cell_type": "markdown",
   "metadata": {},
   "source": [
    "### **sum** \n",
    "serve per avere la somma di tutti gli elementi di un array"
   ]
  },
  {
   "cell_type": "code",
   "execution_count": null,
   "metadata": {},
   "outputs": [],
   "source": [
    "a = rdm.normal(0, 1, (50,))\n",
    "\n",
    "a"
   ]
  },
  {
   "cell_type": "code",
   "execution_count": null,
   "metadata": {},
   "outputs": [],
   "source": [
    "np.sum(a)"
   ]
  },
  {
   "cell_type": "code",
   "execution_count": null,
   "metadata": {},
   "outputs": [],
   "source": [
    "sum(a)"
   ]
  },
  {
   "cell_type": "markdown",
   "metadata": {},
   "source": [
    "Quando le dimensioni degli array sono grandi, **le operazioni aggregate di NumPy sono molto più efficienti di quelle default di Python**."
   ]
  },
  {
   "cell_type": "code",
   "execution_count": null,
   "metadata": {},
   "outputs": [],
   "source": [
    "np.mean(a)"
   ]
  },
  {
   "cell_type": "markdown",
   "metadata": {},
   "source": [
    "Le funzioni aggregate di NumPy possono essere utilizzate su ognuno degli *axes* di un array. Ogni axis corrisponde ad una dimensione; il numero di axes è quindi pari al valore della proprietà ndim.\n",
    "\n",
    "Un array monodimensionale avrà solo l'*axis 0*, uno bidimensionale gli axes 0 e 1, e così via.\n",
    "\n",
    "Vediamo come usare le funzioni aggregate lungo gli axes di un array NumPy."
   ]
  },
  {
   "cell_type": "code",
   "execution_count": null,
   "metadata": {},
   "outputs": [],
   "source": [
    "A = np.random.randint(0, 5, (3,5))\n",
    "\n",
    "A"
   ]
  },
  {
   "cell_type": "code",
   "execution_count": null,
   "metadata": {},
   "outputs": [],
   "source": [
    "np.sum(A)"
   ]
  },
  {
   "cell_type": "code",
   "execution_count": null,
   "metadata": {},
   "outputs": [],
   "source": [
    "np.sum(A, axis=0)#somma 'lungo le righe' --> genero una riga"
   ]
  },
  {
   "cell_type": "code",
   "execution_count": null,
   "metadata": {},
   "outputs": [],
   "source": [
    "np.sum(A, axis=1)#somma 'lungo le colonne' --> genero una colonna"
   ]
  },
  {
   "cell_type": "code",
   "execution_count": null,
   "metadata": {},
   "outputs": [],
   "source": [
    "np.mean(A, axis=1)"
   ]
  },
  {
   "cell_type": "markdown",
   "metadata": {},
   "source": [
    "### *Esercizio 3*\n",
    "\n",
    "Riprendiamo l'esempio del filmato come tensore, e immaginiamo di rappresentare ogni frame come una griglia di pixel in scala di grigio: ciascuno di essi avrà un valore intero da 0 a 255, che ne indica l'intensità.\n",
    "Supponiamo inoltre che il filmato contenga 50 frame e che ciascuno di questi sia 5x5 pixel.\n",
    "\n",
    "- rappresentare un filmato (generare numeri casuali per i valori dei pixel) tramite un array NumPy\n",
    "- calcolare il valore medio di intensità (sui frame del filmato) dei singoli pixel"
   ]
  },
  {
   "cell_type": "code",
   "execution_count": null,
   "metadata": {},
   "outputs": [],
   "source": [
    "A = rdm.randint(0, 255, (50,5,5))\n",
    "np.mean(A)"
   ]
  },
  {
   "cell_type": "markdown",
   "metadata": {},
   "source": [
    "*stack* e *split*\n",
    "---\n",
    "Array NumPy con una profondità e un numero coerente di dimensioni possono essere combinati tra loro.\n",
    "\n",
    "Le funzioni *hstack* e *vstack* prendono in ingresso una lista di array e li affiancano orizzontalmente (h) o verticalmente (v)."
   ]
  },
  {
   "cell_type": "code",
   "execution_count": null,
   "metadata": {},
   "outputs": [],
   "source": [
    "A = np.arange(16).reshape(4,4)\n",
    "\n",
    "A"
   ]
  },
  {
   "cell_type": "code",
   "execution_count": null,
   "metadata": {},
   "outputs": [],
   "source": [
    "B = np.arange(16,32).reshape(4,4)\n",
    "\n",
    "B"
   ]
  },
  {
   "cell_type": "code",
   "execution_count": null,
   "metadata": {},
   "outputs": [],
   "source": [
    "C = np.hstack([A,B])\n",
    "\n",
    "C"
   ]
  },
  {
   "cell_type": "code",
   "execution_count": null,
   "metadata": {},
   "outputs": [],
   "source": [
    "D = np.vstack([A,B])\n",
    "\n",
    "D"
   ]
  },
  {
   "cell_type": "markdown",
   "metadata": {},
   "source": [
    "### hsplit e vsplit\n",
    "\n",
    "Le funzioni *hsplit* e *vsplit* realizzano l'operazione inversa alla concatenazione: https://docs.scipy.org/doc/numpy-1.14.0/reference/generated/numpy.split.html."
   ]
  },
  {
   "cell_type": "markdown",
   "metadata": {},
   "source": [
    "Aritmetica degli array\n",
    "---\n",
    "\n",
    "Il punto di forza di NumPy è la possibilità di fare operazioni vettoriali in modo efficiente (e intuitivo). Per saperne di più: https://jakevdp.github.io/PythonDataScienceHandbook/02.03-computation-on-arrays-ufuncs.html."
   ]
  },
  {
   "cell_type": "markdown",
   "metadata": {},
   "source": [
    "Calcoliamo i *reciproci* $\\frac{1}{x}$ degli elementi di un array utilizzando una comprensione (Lezione 3)."
   ]
  },
  {
   "cell_type": "code",
   "execution_count": null,
   "metadata": {},
   "outputs": [],
   "source": [
    "values = [4, 4, 5, 2, 5]\n",
    "reciprocals = [1/x for x in values]\n",
    "\n",
    "print('valori originali:', values)\n",
    "print('valori reciproci:', reciprocals)"
   ]
  },
  {
   "cell_type": "markdown",
   "metadata": {},
   "source": [
    "Facciamo la stessa cosa con l'artimetica degli array di NumPy."
   ]
  },
  {
   "cell_type": "code",
   "execution_count": null,
   "metadata": {},
   "outputs": [],
   "source": [
    "values = np.array(values)\n",
    "np_reciprocals = 1/values\n",
    "\n",
    "print('valori originali:', values)\n",
    "print('valori reciproci:', np_reciprocals)"
   ]
  },
  {
   "cell_type": "markdown",
   "metadata": {},
   "source": [
    "per capire la differenza di velocità eseguire prima la generazione dei valori random e poi eseguire le due istruzioni valutando la differenza di tempi"
   ]
  },
  {
   "cell_type": "code",
   "execution_count": null,
   "metadata": {},
   "outputs": [],
   "source": [
    "values = rdm.randint(1, 255, (3000000)) # tre milioni di numeri random"
   ]
  },
  {
   "cell_type": "code",
   "execution_count": null,
   "metadata": {},
   "outputs": [],
   "source": [
    "%%time\n",
    "reciprocals = [1/x for x in values]"
   ]
  },
  {
   "cell_type": "code",
   "execution_count": null,
   "metadata": {},
   "outputs": [],
   "source": [
    "%%time\n",
    "values = np.array(values)\n",
    "np_reciprocals = 1/values"
   ]
  },
  {
   "cell_type": "markdown",
   "metadata": {},
   "source": [
    "Tutte le operazioni aritmetiche fondamentali possono essere usate sugli array NumPy."
   ]
  },
  {
   "cell_type": "code",
   "execution_count": null,
   "metadata": {},
   "outputs": [],
   "source": [
    "a = np.arange(10)\n",
    "print('a:', a)\n",
    "print('\\na + 5:', a + 5)\n",
    "print('\\na - 5:', a - 5)\n",
    "print('\\na * 2:', a * 2)\n",
    "print('\\na / 2:', a / 2)"
   ]
  },
  {
   "cell_type": "markdown",
   "metadata": {},
   "source": [
    "L'aritmetica funziona anche per array con più dimensioni."
   ]
  },
  {
   "cell_type": "code",
   "execution_count": null,
   "metadata": {},
   "outputs": [],
   "source": [
    "A = np.arange(20).reshape(5,4)\n",
    "\n",
    "A"
   ]
  },
  {
   "cell_type": "code",
   "execution_count": null,
   "metadata": {},
   "outputs": [],
   "source": [
    "A / 2"
   ]
  },
  {
   "cell_type": "code",
   "execution_count": null,
   "metadata": {},
   "outputs": [],
   "source": [
    "- A"
   ]
  },
  {
   "cell_type": "code",
   "execution_count": 2,
   "metadata": {},
   "outputs": [
    {
     "ename": "TypeError",
     "evalue": "'<' not supported between instances of 'int' and 'str'",
     "output_type": "error",
     "traceback": [
      "\u001b[1;31m---------------------------------------------------------------------------\u001b[0m",
      "\u001b[1;31mTypeError\u001b[0m                                 Traceback (most recent call last)",
      "\u001b[1;32m<ipython-input-2-122c4c0985e6>\u001b[0m in \u001b[0;36m<module>\u001b[1;34m\u001b[0m\n\u001b[0;32m      1\u001b[0m \u001b[0mstuff\u001b[0m \u001b[1;33m=\u001b[0m \u001b[1;33m[\u001b[0m\u001b[1;34m'apples'\u001b[0m\u001b[1;33m,\u001b[0m\u001b[1;34m'oranges'\u001b[0m\u001b[1;33m,\u001b[0m\u001b[1;36m32\u001b[0m\u001b[1;33m,\u001b[0m\u001b[1;36m17\u001b[0m\u001b[1;33m]\u001b[0m\u001b[1;33m\u001b[0m\u001b[1;33m\u001b[0m\u001b[0m\n\u001b[1;32m----> 2\u001b[1;33m \u001b[0ms\u001b[0m \u001b[1;33m=\u001b[0m \u001b[0msorted\u001b[0m\u001b[1;33m(\u001b[0m\u001b[0mstuff\u001b[0m\u001b[1;33m)\u001b[0m\u001b[1;33m\u001b[0m\u001b[1;33m\u001b[0m\u001b[0m\n\u001b[0m",
      "\u001b[1;31mTypeError\u001b[0m: '<' not supported between instances of 'int' and 'str'"
     ]
    }
   ],
   "source": [
    "stuff = ['apples','oranges',32,17]\n",
    "s = sorted(stuff)"
   ]
  },
  {
   "cell_type": "markdown",
   "metadata": {},
   "source": [
    "<script>\n",
    "  $(document).ready(function(){\n",
    "    $('div.back-to-top').hide();\n",
    "    $('nav#menubar').hide();\n",
    "    $('div.prompt').hide();\n",
    "    $('.hidden-print').hide();\n",
    "  });\n",
    "</script>\n",
    "\n",
    "<footer id=\"attribution\" style=\"float:right; color:#999; background:#fff;\">\n",
    "Created with Jupyter, delivered by Fastly, rendered by Rackspace.\n",
    "</footer>"
   ]
  }
 ],
 "metadata": {
  "kernelspec": {
   "display_name": "Python 3",
   "language": "python",
   "name": "python3"
  },
  "language_info": {
   "codemirror_mode": {
    "name": "ipython",
    "version": 3
   },
   "file_extension": ".py",
   "mimetype": "text/x-python",
   "name": "python",
   "nbconvert_exporter": "python",
   "pygments_lexer": "ipython3",
   "version": "3.8.5"
  }
 },
 "nbformat": 4,
 "nbformat_minor": 2
}
