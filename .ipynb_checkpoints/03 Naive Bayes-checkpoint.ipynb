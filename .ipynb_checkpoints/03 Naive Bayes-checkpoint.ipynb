{
 "cells": [
  {
   "cell_type": "code",
   "execution_count": null,
   "metadata": {},
   "outputs": [],
   "source": [
    "https://www.lorenzogovoni.com/naive-bayes/\n",
    "https://www.andreaminini.com/ai/machine-learning/algoritmo-naive-bayes"
   ]
  },
  {
   "cell_type": "markdown",
   "metadata": {},
   "source": [
    "# Naive Bayes"
   ]
  },
  {
   "cell_type": "markdown",
   "metadata": {},
   "source": [
    "## Teorema di Bayes"
   ]
  },
  {
   "cell_type": "markdown",
   "metadata": {},
   "source": [
    "Il teorema di Bayes calcola la probabilità di un evento, in base alla conoscenza preliminare delle evidenze correlate all’evento. \n",
    "\n",
    "In altre parole, il teorema di Bayes viene impiegato per calcolare la probabilità di un evento A dipendente da un evento B che è già accaduto.\n",
    "\n",
    "Ovvero, dato un evento B già accaduto, da cui dipende evento A, il teorema di Bayes calcola la probabilità di A.\n",
    "\n",
    "\n",
    "L’equazione del teorema di Bayes è la seguente:\n",
    "\n",
    "$$P(A|B) = \\frac{P(B|A) ⋅ P(A)} {P(B)}$$ \n",
    "P(A|B) si legge 'probabilità che avvenga A dato B'\n",
    "\n",
    "\n",
    "### Esempio\n",
    "\n",
    "Abbiamo due urne, esternamente identiche e piene di palline\n",
    " - una contiene 3 BIANCHE e 3 NERE, \n",
    " - l’altra 6 BIANCHE e 3 NERE \n",
    "Se un bambino estrae da un'urna a caso una pallina NERA, qual è la probabilità che sia stata estratta dalla prima urna?\n",
    "\n",
    "In questo caso l'evento A già accaduto è l'estrazione della pallina NERA.\n",
    "Mentre l'estrazione dalla prima urna è l'evento B di cui vogliamo calcolare la probabilità\n",
    "\n",
    "Soluzione\n",
    "Definiamo:\n",
    "\n",
    " - A = estrazione dalla prima urna (dato di cui dobbiamo calcolare la probabilità)\n",
    " - B = pallina nera  (dato certo)\n",
    " - P(A|B) = probabilità che la pallina sia stata estratta dalla prima urna (A), posto che la pallina è nera (B) (per praticità è possibile leggere | come 'dato')\n",
    "\n",
    " - U1 = urna 1 (3 BIANCHE e 3 NERE)\n",
    " - U2 = urna 2 (6 BIANCHE e 3 NERE)\n",
    " - N = pallina NERA\n",
    "\n",
    "Calcoliamo :\n",
    "\n",
    " - P(U1) = 1/2 (probabilità di scegliere la prima urna)\n",
    " - P(U2) = 1/2 (probabilità di scegliere la seconda urna)\n",
    " - P(N|U1) = 1/2  (probabilità di pescare una pallina nera scelta la prima urna)\n",
    " - P(N|U2) = 1/3  (probabilità di pescare una pallina nera scelta la seconda urna)\n",
    " \n",
    "Decisamente più complicato è calcolare la probabilità di estrarre una pallina nera da una qualsiasi scatola.\n",
    "Che corrisponde genericamente alla probabilità di scegliere la i-esima scatola, moltiplicata la probabilità di pescare una pallina nera sempre nella i-esima scatola. <br>\n",
    "Genericamente :\n",
    "$$ \\sum_{i=0}^{n} P(U_i) · P(N|U_i) $$\n",
    "Quindi, abbiamo che:\n",
    " - P(N) = [P(U1) · P(N|U1)] + [P(U2) · P(N|U2)] = (1/2 * 1/2) + (1/2 * 1/3) = 1/4 + 1/6 = 5/12 (probabilità di pescare una pallina nera da una scatola a caso)\n",
    "\n",
    "Applicando il teorema di bayes abbiamo:\n",
    "\n",
    "$$P(A|B) = P(U1|N) = \\frac{P(N|U1) ⋅ P(U1)} {P(N)} = \\frac{1/2 ⋅ 1/2} {5/12} = 1/4 ⋅ 12/5 = 6/10 = 60\\% $$\n"
   ]
  },
  {
   "cell_type": "markdown",
   "metadata": {},
   "source": [
    "## Naive Bayes"
   ]
  },
  {
   "cell_type": "markdown",
   "metadata": {},
   "source": [
    "Naive Bayes è un algoritmo di apprendimento supervisionato adatto a risolvere problemi di classificazione binari (a due classi) e multi-classe.\n",
    "\n",
    "La peculiarità principale dell’algoritmo, oltre ad avvalersi del teorema di Bayes, è che si basa sul fatto che tutte le caratteristiche non siano correlate l’una all’altra. La presenza o l’assenza di una caratteristica non influenzano la presenza o l’assenza di altre.\n",
    "\n",
    "Detto in altre parole l'algoritmo Naive Bayes si chiama così perchè :\n",
    "Naive => ingenuo in inglese, perchè non tiene conto dell'ordine delle parole\n",
    "Bayes => perchè applica il teorema di bayes\n",
    "\n",
    "Per queste sue caratteristiche l’algoritmo Naive Bayes è usato principalmente per la classificazione dei testi. Ovvero dato un dizionario di parole con ogniuna la sua probabilità, l’algoritmo Naive Bayes determina con quale percentuale di probabilità il testo dato è stato creato con quel dizionario.\n",
    "\n",
    "\n",
    "### Esempio\n",
    "\n",
    "Se analizziamo una serie di email provenienti da 5 persone diverse ed equiprobabili p1, p2, p3, p4 e p5, possiamo costruire facilmente un dizionario per ogni persona. <br>\n",
    "Nel dizionario ovviamente ogni parola avrà probabilità uguale al numero di occorrenze della parola (in tutte le email di una persona), diviso il numero di parole totale (in tutte le mail della stessa persona). <br>\n",
    "\n",
    "Per calcolare la probabilità che una data email sia stata scritta da una generica persona p basta moltiplicare le probabilità di ogni parola nell'email. Ovviamente le probabilità delle parole sono prese dal dizionario della persona p.\n",
    "\n",
    "\n"
   ]
  },
  {
   "cell_type": "markdown",
   "metadata": {},
   "source": [
    "### creare esempio con sci kit learn\n",
    "https://www.datacamp.com/community/tutorials/naive-bayes-scikit-learn\n",
    "https://www.lorenzogovoni.com/naive-bayes/"
   ]
  },
  {
   "cell_type": "code",
   "execution_count": 16,
   "metadata": {},
   "outputs": [],
   "source": [
    "#Import scikit-learn dataset library\n",
    "from sklearn import datasets\n",
    "\n",
    "#Load dataset\n",
    "wine = datasets.load_wine()\n",
    "\n"
   ]
  },
  {
   "cell_type": "code",
   "execution_count": 18,
   "metadata": {},
   "outputs": [
    {
     "name": "stdout",
     "output_type": "stream",
     "text": [
      "Features:  ['alcohol', 'malic_acid', 'ash', 'alcalinity_of_ash', 'magnesium', 'total_phenols', 'flavanoids', 'nonflavanoid_phenols', 'proanthocyanins', 'color_intensity', 'hue', 'od280/od315_of_diluted_wines', 'proline']\n",
      "Labels:  ['class_0' 'class_1' 'class_2']\n"
     ]
    }
   ],
   "source": [
    "# print the names of the 13 features\n",
    "print(\"Features: \", wine.feature_names)\n",
    "\n",
    "# print the label type of wine(class_0, class_1, class_2)\n",
    "print(\"Labels: \", wine.target_names)"
   ]
  },
  {
   "cell_type": "code",
   "execution_count": 19,
   "metadata": {},
   "outputs": [
    {
     "data": {
      "text/plain": [
       "(178, 13)"
      ]
     },
     "execution_count": 19,
     "metadata": {},
     "output_type": "execute_result"
    }
   ],
   "source": [
    "# print data(feature)shape\n",
    "wine.data.shape"
   ]
  },
  {
   "cell_type": "code",
   "execution_count": 21,
   "metadata": {},
   "outputs": [
    {
     "name": "stdout",
     "output_type": "stream",
     "text": [
      "[[1.423e+01 1.710e+00 2.430e+00 1.560e+01 1.270e+02 2.800e+00 3.060e+00\n",
      "  2.800e-01 2.290e+00 5.640e+00 1.040e+00 3.920e+00 1.065e+03]\n",
      " [1.320e+01 1.780e+00 2.140e+00 1.120e+01 1.000e+02 2.650e+00 2.760e+00\n",
      "  2.600e-01 1.280e+00 4.380e+00 1.050e+00 3.400e+00 1.050e+03]\n",
      " [1.316e+01 2.360e+00 2.670e+00 1.860e+01 1.010e+02 2.800e+00 3.240e+00\n",
      "  3.000e-01 2.810e+00 5.680e+00 1.030e+00 3.170e+00 1.185e+03]\n",
      " [1.437e+01 1.950e+00 2.500e+00 1.680e+01 1.130e+02 3.850e+00 3.490e+00\n",
      "  2.400e-01 2.180e+00 7.800e+00 8.600e-01 3.450e+00 1.480e+03]\n",
      " [1.324e+01 2.590e+00 2.870e+00 2.100e+01 1.180e+02 2.800e+00 2.690e+00\n",
      "  3.900e-01 1.820e+00 4.320e+00 1.040e+00 2.930e+00 7.350e+02]]\n"
     ]
    }
   ],
   "source": [
    "# print the wine data features (top 5 records)\n",
    "print (wine.data[0:5])"
   ]
  },
  {
   "cell_type": "code",
   "execution_count": 23,
   "metadata": {},
   "outputs": [
    {
     "name": "stdout",
     "output_type": "stream",
     "text": [
      "[0 0 0 0 0 0 0 0 0 0 0 0 0 0 0 0 0 0 0 0 0 0 0 0 0 0 0 0 0 0 0 0 0 0 0 0 0\n",
      " 0 0 0 0 0 0 0 0 0 0 0 0 0 0 0 0 0 0 0 0 0 0 1 1 1 1 1 1 1 1 1 1 1 1 1 1 1\n",
      " 1 1 1 1 1 1 1 1 1 1 1 1 1 1 1 1 1 1 1 1 1 1 1 1 1 1 1 1 1 1 1 1 1 1 1 1 1\n",
      " 1 1 1 1 1 1 1 1 1 1 1 1 1 1 1 1 1 1 1 2 2 2 2 2 2 2 2 2 2 2 2 2 2 2 2 2 2\n",
      " 2 2 2 2 2 2 2 2 2 2 2 2 2 2 2 2 2 2 2 2 2 2 2 2 2 2 2 2 2 2]\n"
     ]
    }
   ],
   "source": [
    "# print the wine labels (0:Class_0, 1:class_2, 2:class_2)\n",
    "print (wine.target)"
   ]
  },
  {
   "cell_type": "code",
   "execution_count": 27,
   "metadata": {},
   "outputs": [
    {
     "name": "stdout",
     "output_type": "stream",
     "text": [
      "X train (124, 13)\n",
      "X test (54, 13)\n",
      "y train (124,)\n",
      "y test (54,)\n"
     ]
    }
   ],
   "source": [
    "# Import train_test_split function\n",
    "from sklearn.model_selection import train_test_split\n",
    "\n",
    "# Split dataset into training set and test set\n",
    "X_train, X_test, y_train, y_test = train_test_split(wine.data, wine.target, test_size=0.3,random_state=109) # 70% training and 30% test\n",
    "\n",
    "print(\"X train\",X_train.shape)\n",
    "print(\"X test\",X_test.shape)\n",
    "print(\"y train\",y_train.shape)\n",
    "print(\"y test\",y_test.shape)"
   ]
  },
  {
   "cell_type": "code",
   "execution_count": 28,
   "metadata": {},
   "outputs": [],
   "source": [
    "#Import Gaussian Naive Bayes model\n",
    "from sklearn.naive_bayes import GaussianNB\n",
    "\n",
    "#Create a Gaussian Classifier\n",
    "gnb = GaussianNB()\n",
    "\n",
    "#Train the model using the training sets\n",
    "gnb.fit(X_train, y_train)\n",
    "\n",
    "#Predict the response for test dataset\n",
    "y_pred = gnb.predict(X_test)"
   ]
  },
  {
   "cell_type": "code",
   "execution_count": 29,
   "metadata": {},
   "outputs": [
    {
     "name": "stdout",
     "output_type": "stream",
     "text": [
      "Accuracy: 0.9074074074074074\n"
     ]
    }
   ],
   "source": [
    "#Import scikit-learn metrics module for accuracy calculation\n",
    "from sklearn import metrics\n",
    "\n",
    "# Model Accuracy, how often is the classifier correct?\n",
    "print(\"Accuracy:\",metrics.accuracy_score(y_test, y_pred))"
   ]
  },
  {
   "cell_type": "markdown",
   "metadata": {},
   "source": [
    "# Vantaggi e svantaggi del Naive Bayes"
   ]
  },
  {
   "cell_type": "markdown",
   "metadata": {},
   "source": [
    "### Vantaggi\n",
    " - Non è solo un approccio semplice, ma anche un metodo rapido e accurato per la previsione.\n",
    " - Naive Bayes ha un costo di calcolo molto basso.\n",
    " - Può lavorare in modo efficiente su un set di dati di grandi dimensioni.\n",
    " - Funziona bene in caso di variabile di risposta discreta rispetto alla variabile continua.\n",
    " - Può essere utilizzato con problemi di previsione di più classi.\n",
    " - Funziona bene anche in caso di problemi di analisi del testo.\n",
    " - Quando l'assunzione di indipendenza è valida, un classificatore Naive Bayes ha prestazioni migliori rispetto ad altri modelli come la regressione logistica.\n",
    "\n",
    "### Svantaggi\n",
    " - L'assunzione di caratteristiche indipendenti. In pratica, è quasi impossibile che il modello ottenga un insieme di predittori completamente indipendenti.\n",
    " - Se non è presente una tupla di addestramento di una particolare classe, la probabilità a posteriori è zero. In questo caso, il modello non è in grado di fare previsioni. Questo problema è noto come problema di probabilità/frequenza zero."
   ]
  },
  {
   "cell_type": "code",
   "execution_count": null,
   "metadata": {},
   "outputs": [],
   "source": [
    "https://www.datacamp.com/community/tutorials/naive-bayes-scikit-learn"
   ]
  }
 ],
 "metadata": {
  "kernelspec": {
   "display_name": "Python 3",
   "language": "python",
   "name": "python3"
  },
  "language_info": {
   "codemirror_mode": {
    "name": "ipython",
    "version": 3
   },
   "file_extension": ".py",
   "mimetype": "text/x-python",
   "name": "python",
   "nbconvert_exporter": "python",
   "pygments_lexer": "ipython3",
   "version": "3.8.5"
  }
 },
 "nbformat": 4,
 "nbformat_minor": 4
}
