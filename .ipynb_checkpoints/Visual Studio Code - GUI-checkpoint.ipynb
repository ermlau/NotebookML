{
 "cells": [
  {
   "cell_type": "markdown",
   "metadata": {},
   "source": [
    "# Visual studio code"
   ]
  },
  {
   "cell_type": "markdown",
   "metadata": {},
   "source": [
    "## installare git su VsCode"
   ]
  },
  {
   "cell_type": "markdown",
   "metadata": {},
   "source": [
    "### da mettere in ordine"
   ]
  },
  {
   "cell_type": "markdown",
   "metadata": {},
   "source": [
    " Visual Studio Code e GIT\n",
    "\n",
    "Installare git su computer (scaricare pacchetto da sito git)\n",
    "Su Vs Code\n",
    "\tfile > preferenze > impostazioni\n",
    "\tinserire 'Git: Enabled' nella barra di ricerca delle impostazioni e assicurarsi che il check sia selezionato\n",
    "\t\n",
    "aprire il terminale cmd e inserire la riga :\n",
    "\tgit config --global user.name \"yourusername\"\n",
    "\tgit config --global user.email \"email@youremail.com\"\n",
    "\t\n",
    "Nel mio caso \n",
    "\tgit config --global user.name ermlau\n",
    "\tgit config --global user.email ermlau@gmail.com\n",
    "\t\n",
    "Aprire VsCode\n",
    "Cliccare 'controllo codice sorgente' sulla barra menu a sinistra\n",
    "Cliccare 'inizializza repository'\n",
    "\n",
    "Per creare un nuovo ambiente andare nel folder della solution in terminale e digitare :\n",
    " python -m venv .venv\n",
    "dove .venv è il nome dell'ambiente \n",
    "\n",
    "Installare pacchetti tramite comando\n",
    "\tpip install requests\n",
    "\t\n",
    "Per cancellare un ambiente virtuale\n",
    "\trm -r .venv"
   ]
  }
 ],
 "metadata": {
  "kernelspec": {
   "display_name": "Python 3",
   "language": "python",
   "name": "python3"
  },
  "language_info": {
   "codemirror_mode": {
    "name": "ipython",
    "version": 3
   },
   "file_extension": ".py",
   "mimetype": "text/x-python",
   "name": "python",
   "nbconvert_exporter": "python",
   "pygments_lexer": "ipython3",
   "version": "3.8.5"
  }
 },
 "nbformat": 4,
 "nbformat_minor": 4
}
