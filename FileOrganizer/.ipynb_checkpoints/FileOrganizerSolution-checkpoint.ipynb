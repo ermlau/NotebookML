{
 "cells": [
  {
   "cell_type": "code",
   "execution_count": 1,
   "metadata": {},
   "outputs": [],
   "source": [
    "#importo i package che mi servono\n",
    "import os\n",
    "import shutil\n",
    "import csv"
   ]
  },
  {
   "cell_type": "code",
   "execution_count": null,
   "metadata": {},
   "outputs": [],
   "source": [
    "# ---------------- funzioni e variabili a supporto"
   ]
  },
  {
   "cell_type": "code",
   "execution_count": 12,
   "metadata": {},
   "outputs": [],
   "source": [
    "TipoText = ['.doc','.docx','.txt','.odt']\n",
    "TipoImage = ['.jpg','.png','.jpeg']\n",
    "TipoAudio = ['.mp3']"
   ]
  },
  {
   "cell_type": "code",
   "execution_count": 13,
   "metadata": {},
   "outputs": [],
   "source": [
    "# funzione che restituisce il tipo in base all'estensione\n",
    "def getTipo(extension):\n",
    "    if extension in TipoText:\n",
    "        return 'doc'\n",
    "    if extension in TipoImage:\n",
    "        return 'image'\n",
    "    if extension in TipoAudio:\n",
    "        return 'audio'\n",
    "    return 'unknow'"
   ]
  },
  {
   "cell_type": "code",
   "execution_count": 14,
   "metadata": {},
   "outputs": [],
   "source": [
    "# funzione che restituisce la directory in cui mettere il file in base all'estensione\n",
    "def getDirectory(extension):\n",
    "    if extension in TipoText:\n",
    "        return 'docs'\n",
    "    if extension in TipoImage:\n",
    "        return 'images'\n",
    "    if extension in TipoAudio:\n",
    "        return 'audio'\n",
    "    return 'unknow'"
   ]
  },
  {
   "cell_type": "code",
   "execution_count": 15,
   "metadata": {},
   "outputs": [],
   "source": [
    "# controllo se esistono le directory e il file recap\n",
    "# nel caso non esistessero le creo\n",
    "if not os.path.isdir('files/audio'):\n",
    "    os.mkdir('files/audio')\n",
    "if not os.path.isdir('files/docs'):\n",
    "    os.mkdir('files/docs')\n",
    "if not os.path.isdir('files/images'):\n",
    "    os.mkdir('files/images')    \n",
    "if not os.path.isfile('files/recap.csv'):\n",
    "    with open('files/recap.csv', 'w', newline='') as file:\n",
    "        csv.writer(file).writerow([\"name\", \"type\", \"size(B)\"])"
   ]
  },
  {
   "cell_type": "code",
   "execution_count": null,
   "metadata": {},
   "outputs": [],
   "source": [
    "# ---------------- Step 1 ----------------"
   ]
  },
  {
   "cell_type": "code",
   "execution_count": 16,
   "metadata": {},
   "outputs": [],
   "source": [
    "#definisco una funzione per il lowercase in modo da fare il sorting corretto\n",
    "def toLower(elem):\n",
    "    return elem.name.lower()"
   ]
  },
  {
   "cell_type": "code",
   "execution_count": 39,
   "metadata": {},
   "outputs": [],
   "source": [
    "# catturo la lista di file nel folder files   \n",
    "dir_entries = os.scandir('files/')\n",
    "\n",
    "# ordino la lista dei file per nome\n",
    "dir_entries = sorted(dir_entries,key=toLower)\n",
    "\n",
    "# ciclo sui file\n",
    "for entry in dir_entries:\n",
    "    if entry.is_file():\n",
    "        # salto il file recap.csv\n",
    "        if entry.name == 'recap.csv':\n",
    "            continue\n",
    "        #prelevo le informazioni\n",
    "        info = entry.stat()\n",
    "        filename, file_extension = os.path.splitext(entry.name)\n",
    "        # derivo il tipo di file\n",
    "        tipoFile = getTipo(file_extension)\n",
    "        # controllo che sia un file conosciuto\n",
    "        if tipoFile == 'unknow':\n",
    "            #print(f\"file {entry.name} di tipo sconosciuto\")\n",
    "            pass\n",
    "        else:\n",
    "            #stampo i dettagli del file \n",
    "            print(f'{filename} type:{tipoFile} size:{info.st_size}B') #dir(entry.path)\n",
    "            # sposto il file\n",
    "            shutil.move(entry.path, 'files/'+getDirectory(file_extension)+'/'+entry.name)\n",
    "            #print(f'file {entry.name} spostato in files/{getDirectory(file_extension)}')\n",
    "            #scrivo sul file di recap lo spostamento del file\n",
    "            with open('files/recap.csv', 'a', newline='') as file:\n",
    "                csv.writer(file).writerow([filename, tipoFile, info.st_size])\n",
    "\n",
    "        "
   ]
  },
  {
   "cell_type": "code",
   "execution_count": null,
   "metadata": {},
   "outputs": [],
   "source": [
    "# ---------------- Step 3 ----------------"
   ]
  },
  {
   "cell_type": "code",
   "execution_count": 36,
   "metadata": {},
   "outputs": [],
   "source": [
    "import numpy as np\n",
    "from PIL import Image\n",
    "import matplotlib.pyplot as plt\n",
    "from tabulate import tabulate"
   ]
  },
  {
   "cell_type": "code",
   "execution_count": 84,
   "metadata": {
    "scrolled": true
   },
   "outputs": [],
   "source": [
    "\n",
    "dir_img_entries = os.scandir('files/images/')\n",
    "output = []\n",
    "\n",
    "for entry in dir_img_entries:\n",
    "    im = Image.open(f'files/images/{entry.name}') \n",
    "\n",
    "    #im = Image.open('files/images/bw.png') #BW \n",
    "    # im = Image.open('files/images/daffodil.jpg') #RGB\n",
    "    #im = Image.open('files/images/trump.jpeg') #RGB\n",
    "    #im = Image.open('files/images/eclipse.png') #RGBA\n",
    "\n",
    "    im_arr = np.array(im) \n",
    "\n",
    "    #https://jakevdp.github.io/PythonDataScienceHandbook/02.02-the-basics-of-numpy-arrays.html\n",
    "    #https://numpy.org/doc/stable/reference/generated/numpy.mean.html\n",
    "    height = im_arr.shape[0]\n",
    "    width = im_arr.shape[1]\n",
    "    #print(type(im_arr.shape))\n",
    "\n",
    "    tipoImg = \"bn\"\n",
    "    if im_arr.ndim == 3:\n",
    "        if im_arr.shape[2] == 3:\n",
    "            tipoImg = \"rgb\"\n",
    "        else:\n",
    "            tipoImg = \"rgba\"\n",
    "\n",
    "    filename, file_extension = os.path.splitext(entry.name)\n",
    "\n",
    "    if tipoImg == \"bn\":\n",
    "        output.append([filename,height,width,round(np.mean(im_arr),2),0,0,0,0])\n",
    "    elif tipoImg == \"rgb\":\n",
    "        output.append([filename,height,width,0,round(np.mean(im_arr[:,:,0]),2),round(np.mean(im_arr[:,:,1]),2),round(np.mean(im_arr[:,:,2]),2),0])\n",
    "    elif tipoImg == \"rgba\":\n",
    "        output.append([filename,height,width,0,round(np.mean(im_arr[:,:,0]),2),round(np.mean(im_arr[:,:,1]),2),round(np.mean(im_arr[:,:,2]),2),round(np.mean(im_arr[:,:,3]),2)])\n",
    "\n"
   ]
  },
  {
   "cell_type": "code",
   "execution_count": 85,
   "metadata": {},
   "outputs": [
    {
     "name": "stdout",
     "output_type": "stream",
     "text": [
      "name        height    width    grayscale       R       G      B    ALPHA\n",
      "--------  --------  -------  -----------  ------  ------  -----  -------\n",
      "bw             512      512        21.48    0       0      0        0\n",
      "daffodil       500      335         0     109.23   85.52   4.77     0\n",
      "eclipse        256      256         0     109.05  109.52  39.85   133.59\n",
      "trump          183      275         0      97.01   98.99  90.92     0\n"
     ]
    }
   ],
   "source": [
    "print(tabulate(output, headers=[\"name\",\"height\",\"width\",\"grayscale\",\"R\",\"G\",\"B\",\"ALPHA\"]))"
   ]
  },
  {
   "cell_type": "code",
   "execution_count": null,
   "metadata": {},
   "outputs": [],
   "source": []
  },
  {
   "cell_type": "code",
   "execution_count": null,
   "metadata": {},
   "outputs": [],
   "source": []
  },
  {
   "cell_type": "code",
   "execution_count": null,
   "metadata": {},
   "outputs": [],
   "source": []
  },
  {
   "cell_type": "markdown",
   "metadata": {},
   "source": [
    "# istruzioni da lanciare per ritornare allo stato iniziale"
   ]
  },
  {
   "cell_type": "code",
   "execution_count": 10,
   "metadata": {},
   "outputs": [],
   "source": [
    "def svuotacartella(nomecartella):\n",
    "    files = os.listdir(f\"files/{nomecartella}\")\n",
    "    for file in files:\n",
    "        shutil.move(f\"files/{nomecartella}/{file}\", \"files/\")"
   ]
  },
  {
   "cell_type": "code",
   "execution_count": 34,
   "metadata": {},
   "outputs": [],
   "source": [
    "svuotacartella(\"docs\")\n",
    "svuotacartella(\"images\")\n",
    "svuotacartella(\"audio\")\n",
    "\n"
   ]
  },
  {
   "cell_type": "code",
   "execution_count": null,
   "metadata": {},
   "outputs": [],
   "source": []
  }
 ],
 "metadata": {
  "kernelspec": {
   "display_name": "Python 3",
   "language": "python",
   "name": "python3"
  },
  "language_info": {
   "codemirror_mode": {
    "name": "ipython",
    "version": 3
   },
   "file_extension": ".py",
   "mimetype": "text/x-python",
   "name": "python",
   "nbconvert_exporter": "python",
   "pygments_lexer": "ipython3",
   "version": "3.8.5"
  }
 },
 "nbformat": 4,
 "nbformat_minor": 4
}
