{
 "cells": [
  {
   "cell_type": "code",
   "execution_count": null,
   "metadata": {},
   "outputs": [],
   "source": [
    "https://www.lorenzogovoni.com/naive-bayes/\n",
    "https://www.andreaminini.com/ai/machine-learning/algoritmo-naive-bayes"
   ]
  },
  {
   "cell_type": "markdown",
   "metadata": {},
   "source": [
    "# Naive Bayes"
   ]
  },
  {
   "cell_type": "markdown",
   "metadata": {},
   "source": [
    "## Teorema di Bayes"
   ]
  },
  {
   "cell_type": "markdown",
   "metadata": {},
   "source": [
    "Il teorema di Bayes calcola la probabilità di un evento, in base alla conoscenza preliminare delle evidenze correlate all’evento. \n",
    "\n",
    "In altre parole, il teorema di Bayes viene impiegato per calcolare la probabilità di un evento A dipendente da un evento B che è già accaduto.\n",
    "\n",
    "Ovvero, dato un evento B già accaduto, da cui dipende evento A, il teorema di Bayes calcola la probabilità di A.\n",
    "\n",
    "\n",
    "L’equazione del teorema di Bayes è la seguente:\n",
    "\n",
    "$$P(A|B) = \\frac{P(B|A) ⋅ P(A)} {P(B)}$$ \n",
    "P(A|B) si legge 'probabilità che avvenga A dato B'\n",
    "\n",
    "\n",
    "### Esempio\n",
    "\n",
    "Abbiamo due urne, esternamente identiche e piene di palline\n",
    " - una contiene 3 BIANCHE e 3 NERE, \n",
    " - l’altra 6 BIANCHE e 3 NERE \n",
    "Se un bambino estrae da un'urna a caso una pallina NERA, qual è la probabilità che sia stata estratta dalla prima urna?\n",
    "\n",
    "In questo caso l'evento A già accaduto è l'estrazione della pallina NERA.\n",
    "Mentre l'estrazione dalla prima urna è l'evento B di cui vogliamo calcolare la probabilità\n",
    "\n",
    "Soluzione\n",
    "Definiamo:\n",
    "\n",
    " - A = estrazione dalla prima urna (dato di cui dobbiamo calcolare la probabilità)\n",
    " - B = pallina nera  (dato certo)\n",
    " - P(A|B) = probabilità che la pallina sia stata estratta dalla prima urna (A), posto che la pallina è nera (B) (per praticità è possibile leggere | come 'dato')\n",
    "\n",
    " - U1 = urna 1 (3 BIANCHE e 3 NERE)\n",
    " - U2 = urna 2 (6 BIANCHE e 3 NERE)\n",
    " - N = pallina NERA\n",
    "\n",
    "Calcoliamo :\n",
    "\n",
    " - P(U1) = 1/2 (probabilità di scegliere la prima urna)\n",
    " - P(U2) = 1/2 (probabilità di scegliere la seconda urna)\n",
    " - P(N|U1) = 1/2  (probabilità di pescare una pallina nera scelta la prima urna)\n",
    " - P(N|U2) = 1/3  (probabilità di pescare una pallina nera scelta la seconda urna)\n",
    " \n",
    "Decisamente più complicato è calcolare la probabilità di estrarre una pallina nera da una qualsiasi scatola.\n",
    "Che corrisponde genericamente alla probabilità di scegliere la i-esima scatola, moltiplicata la probabilità di pescare una pallina nera sempre nella i-esima scatola. <br>\n",
    "Genericamente :\n",
    "$$ \\sum_{i=0}^{n} P(U_i) · P(N|U_i) $$\n",
    "Quindi, abbiamo che:\n",
    " - P(N) = [P(U1) · P(N|U1)] + [P(U2) · P(N|U2)] = (1/2 * 1/2) + (1/2 * 1/3) = 1/4 + 1/6 = 5/12 (probabilità di pescare una pallina nera da una scatola a caso)\n",
    "\n",
    "Applicando il teorema di bayes abbiamo:\n",
    "\n",
    "$$P(A|B) = P(U1|N) = \\frac{P(N|U1) ⋅ P(U1)} {P(N)} = \\frac{1/2 ⋅ 1/2} {5/12} = 1/4 ⋅ 12/5 = 6/10 = 60\\% $$\n"
   ]
  },
  {
   "cell_type": "markdown",
   "metadata": {},
   "source": [
    "## Naive Bayes"
   ]
  },
  {
   "cell_type": "markdown",
   "metadata": {},
   "source": [
    "Naive Bayes è un algoritmo di apprendimento supervisionato adatto a risolvere problemi di classificazione binari (a due classi) e multi-classe.\n",
    "\n",
    "La peculiarità principale dell’algoritmo, oltre ad avvalersi del teorema di Bayes, è che si basa sul fatto che tutte le caratteristiche non siano correlate l’una all’altra. La presenza o l’assenza di una caratteristica non influenzano la presenza o l’assenza di altre.\n",
    "\n",
    "Detto in altre parole l'algoritmo Naive Bayes si chiama così perchè :\n",
    "Naive => ingenuo in inglese, perchè non tiene conto dell'ordine delle parole\n",
    "Bayes => perchè applica il teorema di bayes\n",
    "\n",
    "Per queste sue caratteristiche l’algoritmo Naive Bayes è usato principalmente per la classificazione dei testi. Ovvero dato un dizionario di parole con ogniuna la sua probabilità, l’algoritmo Naive Bayes determina con quale percentuale di probabilità il testo dato è stato creato con quel dizionario.\n",
    "\n",
    "\n",
    "### Esempio\n",
    "\n",
    "Se analizziamo una serie di email provenienti da 5 persone diverse ed equiprobabili p1, p2, p3, p4 e p5, possiamo costruire facilmente un dizionario per ogni persona. <br>\n",
    "Nel dizionario ovviamente ogni parola avrà probabilità uguale al numero di occorrenze della parola (in tutte le email di una persona), diviso il numero di parole totale (in tutte le mail della stessa persona). <br>\n",
    "\n",
    "Per calcolare la probabilità che una data email sia stata scritta da una generica persona p basta moltiplicare le probabilità di ogni parola nell'email. Ovviamente le probabilità delle parole sono prese dal dizionario della persona p.\n",
    "\n",
    "\n"
   ]
  },
  {
   "cell_type": "markdown",
   "metadata": {},
   "source": [
    "### creare esempio con sci kit learn\n",
    "https://www.datacamp.com/community/tutorials/naive-bayes-scikit-learn\n",
    "https://www.lorenzogovoni.com/naive-bayes/"
   ]
  },
  {
   "cell_type": "code",
   "execution_count": null,
   "metadata": {},
   "outputs": [],
   "source": []
  }
 ],
 "metadata": {
  "kernelspec": {
   "display_name": "Python 3",
   "language": "python",
   "name": "python3"
  },
  "language_info": {
   "codemirror_mode": {
    "name": "ipython",
    "version": 3
   },
   "file_extension": ".py",
   "mimetype": "text/x-python",
   "name": "python",
   "nbconvert_exporter": "python",
   "pygments_lexer": "ipython3",
   "version": "3.8.5"
  }
 },
 "nbformat": 4,
 "nbformat_minor": 4
}
