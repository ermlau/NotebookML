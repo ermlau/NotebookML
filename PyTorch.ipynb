{
 "cells": [
  {
   "cell_type": "markdown",
   "metadata": {},
   "source": [
    "# PyTorch"
   ]
  },
  {
   "cell_type": "markdown",
   "metadata": {},
   "source": [
    "## Scikit learn vs Tensorflow vs Keras vs PyTorch\n",
    "\n",
    "**SciKit Learn** è una libreria di apprendimento automatico generale, costruita su **NumPy**. È dotata di molti algoritmi di apprendimento automatico come support vector machines, random forests e molte utilità per la pre e post-elaborazione generale dei dati. **Non è un framework di rete neurale**.\n",
    "\n",
    "**PyTorch** è un framework di deep learning, composto da\n",
    " - una libreria matematica vettorializzata simile a NumPy, ma con supporto GPU e molte operazioni relative alla rete neurale (come softmax o vari tipi di attivazione)\n",
    " - Autograd - un algoritmo in grado di calcolare automaticamente i gradienti delle tue funzioni, definiti in termini di operazioni di base\n",
    " - Routine di ottimizzazione basate su gradiente per l'ottimizzazione su larga scala, dedicate all'ottimizzazione della rete neurale\n",
    " - Funzioni di utilità relative alle reti neurali\n",
    " \n",
    "**Keras** è un framework di deep learning di livello superiore, che astrae molti dettagli, rendendo il codice più semplice e conciso rispetto a PyTorch o TensorFlow, a costo di un'hackability limitata. <br>\n",
    "Astrae il backend di calcolo, che può essere **TensorFlow, Theano o CNTK**. Non supporta PyTorch come backend , ma non è qualcosa di insondabile: puoi considerarlo un sottoinsieme semplificato e ottimizzato di quanto sopra.\n",
    "\n",
    "In breve, se stai andando con algoritmi \"classici\", non neurali, né PyTorch né Keras ti saranno utili. Se stai facendo deep learning, scikit-learn può ancora essere utile per la sua parte di utilità; a parte ciò, avrai bisogno del vero framework di deep learning, dove puoi scegliere tra Keras e PyTorch ma è improbabile che tu li usi entrambi contemporaneamente. Questo è molto soggettivo, ma a mio avviso, se stai lavorando su un nuovo algoritmo, è più probabile che tu scelga PyTorch (o TensorFlow o qualche altro framework di livello inferiore) per la flessibilità. Se stai adattando un algoritmo noto e testato a una nuova impostazione del problema, potresti voler scegliere Keras per la sua maggiore semplicità e il livello di accesso inferiore.\n",
    "\n",
    "\n",
    "https://towardsdatascience.com/scikit-learn-tensorflow-pytorch-keras-but-where-to-begin-9b499e2547d0"
   ]
  }
 ],
 "metadata": {
  "kernelspec": {
   "display_name": "Python 3",
   "language": "python",
   "name": "python3"
  },
  "language_info": {
   "codemirror_mode": {
    "name": "ipython",
    "version": 3
   },
   "file_extension": ".py",
   "mimetype": "text/x-python",
   "name": "python",
   "nbconvert_exporter": "python",
   "pygments_lexer": "ipython3",
   "version": "3.8.5"
  }
 },
 "nbformat": 4,
 "nbformat_minor": 4
}
