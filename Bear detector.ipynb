{
 "cells": [
  {
   "cell_type": "markdown",
   "metadata": {},
   "source": [
    "# Bear detector\n",
    "Questo modello è in grado di capire quale tipo di orso c'è in un'immagine. <br>\n",
    "Può distinguere tra tre tipi di orso : grizzly, nero e orsacchiotto"
   ]
  },
  {
   "cell_type": "markdown",
   "metadata": {},
   "source": [
    "# Download dei dati\n",
    "per prima cosa facciamo il download dei dati\n"
   ]
  },
  {
   "cell_type": "code",
   "execution_count": 7,
   "metadata": {},
   "outputs": [
    {
     "name": "stdout",
     "output_type": "stream",
     "text": [
      "Collecting icrawler\n",
      "  Downloading icrawler-0.6.6-py2.py3-none-any.whl (35 kB)\n",
      "Requirement already satisfied: Pillow in d:\\programmi\\anaconda3\\lib\\site-packages (from icrawler) (7.0.0)\n",
      "Requirement already satisfied: lxml in d:\\programmi\\anaconda3\\lib\\site-packages (from icrawler) (4.6.1)\n",
      "Requirement already satisfied: requests>=2.9.1 in d:\\programmi\\anaconda3\\lib\\site-packages (from icrawler) (2.24.0)\n",
      "Requirement already satisfied: six>=1.10.0 in d:\\programmi\\anaconda3\\lib\\site-packages (from icrawler) (1.15.0)Note: you may need to restart the kernel to use updated packages.\n"
     ]
    },
    {
     "name": "stderr",
     "output_type": "stream",
     "text": [
      "WARNING: Retrying (Retry(total=4, connect=None, read=None, redirect=None, status=None)) after connection broken by 'ProxyError('Cannot connect to proxy.', timeout('timed out'))': /simple/icrawler/\n",
      "WARNING: Retrying (Retry(total=3, connect=None, read=None, redirect=None, status=None)) after connection broken by 'ProxyError('Cannot connect to proxy.', timeout('timed out'))': /simple/icrawler/\n",
      "ERROR: After October 2020 you may experience errors when installing or updating packages. This is because pip will change the way that it resolves dependency conflicts.\n",
      "\n",
      "We recommend you use --use-feature=2020-resolver to test your packages with the new resolver before it becomes the default.\n",
      "\n",
      "conda 4.10.3 requires ruamel_yaml_conda>=0.11.14, which is not installed.\n",
      "conda-repo-cli 1.0.4 requires pathlib, which is not installed.\n",
      "selenium 4.1.0 requires urllib3[secure]~=1.26, but you'll have urllib3 1.25.11 which is incompatible.\n",
      "perceptilabs 0.12.24 requires urllib3==1.25.10, but you'll have urllib3 1.25.11 which is incompatible.\n"
     ]
    },
    {
     "name": "stdout",
     "output_type": "stream",
     "text": [
      "\n",
      "Requirement already satisfied: beautifulsoup4>=4.4.1 in d:\\programmi\\anaconda3\\lib\\site-packages (from icrawler) (4.9.3)\n",
      "Requirement already satisfied: idna<3,>=2.5 in d:\\programmi\\anaconda3\\lib\\site-packages (from requests>=2.9.1->icrawler) (2.10)\n",
      "Requirement already satisfied: certifi>=2017.4.17 in d:\\programmi\\anaconda3\\lib\\site-packages (from requests>=2.9.1->icrawler) (2020.6.20)\n",
      "Requirement already satisfied: chardet<4,>=3.0.2 in d:\\programmi\\anaconda3\\lib\\site-packages (from requests>=2.9.1->icrawler) (3.0.4)\n",
      "Collecting urllib3!=1.25.0,!=1.25.1,<1.26,>=1.21.1\n",
      "  Downloading urllib3-1.25.11-py2.py3-none-any.whl (127 kB)\n",
      "Requirement already satisfied: soupsieve>1.2; python_version >= \"3.0\" in d:\\programmi\\anaconda3\\lib\\site-packages (from beautifulsoup4>=4.4.1->icrawler) (2.0.1)\n",
      "Installing collected packages: icrawler, urllib3\n",
      "  Attempting uninstall: urllib3\n",
      "    Found existing installation: urllib3 1.26.7\n",
      "    Uninstalling urllib3-1.26.7:\n",
      "      Successfully uninstalled urllib3-1.26.7\n",
      "Successfully installed icrawler-0.6.6 urllib3-1.25.11\n"
     ]
    }
   ],
   "source": [
    "pip install icrawler"
   ]
  },
  {
   "cell_type": "code",
   "execution_count": 10,
   "metadata": {},
   "outputs": [
    {
     "name": "stderr",
     "output_type": "stream",
     "text": [
      "ERROR:parser:Exception caught when fetching page https://www.google.com/search?q=sad+human+faces&ijn=0&start=0&tbs=&tbm=isch, error: HTTPSConnectionPool(host='www.google.com', port=443): Max retries exceeded with url: /search?q=sad+human+faces&ijn=0&start=0&tbs=&tbm=isch (Caused by ConnectTimeoutError(<urllib3.connection.HTTPSConnection object at 0x000001B9C6748790>, 'Connection to proxy.inail.it timed out. (connect timeout=5)')), remaining retry times: 2\n",
      "ERROR:parser:Exception caught when fetching page https://www.google.com/search?q=sad+human+faces&ijn=0&start=0&tbs=&tbm=isch, error: HTTPSConnectionPool(host='www.google.com', port=443): Max retries exceeded with url: /search?q=sad+human+faces&ijn=0&start=0&tbs=&tbm=isch (Caused by ConnectTimeoutError(<urllib3.connection.HTTPSConnection object at 0x000001B9C6748FA0>, 'Connection to proxy.inail.it timed out. (connect timeout=5)')), remaining retry times: 1\n",
      "ERROR:parser:Exception caught when fetching page https://www.google.com/search?q=sad+human+faces&ijn=0&start=0&tbs=&tbm=isch, error: HTTPSConnectionPool(host='www.google.com', port=443): Max retries exceeded with url: /search?q=sad+human+faces&ijn=0&start=0&tbs=&tbm=isch (Caused by ConnectTimeoutError(<urllib3.connection.HTTPSConnection object at 0x000001B9C67572B0>, 'Connection to proxy.inail.it timed out. (connect timeout=5)')), remaining retry times: 0\n"
     ]
    }
   ],
   "source": [
    "from icrawler.builtin import GoogleImageCrawler\n",
    "google_Crawler = GoogleImageCrawler(storage = {'root_dir': r'test\\testing1'})\n",
    "google_Crawler.crawl(keyword = 'sad human faces', max_num = 80)"
   ]
  },
  {
   "cell_type": "code",
   "execution_count": null,
   "metadata": {},
   "outputs": [],
   "source": []
  }
 ],
 "metadata": {
  "kernelspec": {
   "display_name": "Python 3",
   "language": "python",
   "name": "python3"
  },
  "language_info": {
   "codemirror_mode": {
    "name": "ipython",
    "version": 3
   },
   "file_extension": ".py",
   "mimetype": "text/x-python",
   "name": "python",
   "nbconvert_exporter": "python",
   "pygments_lexer": "ipython3",
   "version": "3.8.5"
  }
 },
 "nbformat": 4,
 "nbformat_minor": 4
}
