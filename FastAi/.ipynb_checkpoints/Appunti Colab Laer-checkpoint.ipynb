{
 "cells": [
  {
   "cell_type": "markdown",
   "metadata": {},
   "source": [
    "# Colab"
   ]
  },
  {
   "cell_type": "markdown",
   "metadata": {},
   "source": [
    "Ecco gli step per configurare colab\n",
    " 1. accedere ad un account google\n",
    " 2. accedere alla pagina di benvenuto : https://colab.research.google.com/notebooks/welcome.ipynb#recent=true\n",
    " 3. se si vuole creare un nuovo notebook allora crearlo, altrimenti si può cliccare sul tab github, cercare per organizazione inserendo ‘fastai/course-v3’ oppure inserire un url di un'altro notebook in github\n",
    " 4. bisogna dire a colab che vogliamo eseguire su GPU quindi andiamo sulla tab 'Runtime' selezioaniamo ‘Change runtime type’. Selezioniamo ‘GPU’ e clicchiamo su ‘Save’."
   ]
  },
  {
   "cell_type": "code",
   "execution_count": null,
   "metadata": {},
   "outputs": [],
   "source": []
  }
 ],
 "metadata": {
  "kernelspec": {
   "display_name": "Python 3",
   "language": "python",
   "name": "python3"
  },
  "language_info": {
   "codemirror_mode": {
    "name": "ipython",
    "version": 3
   },
   "file_extension": ".py",
   "mimetype": "text/x-python",
   "name": "python",
   "nbconvert_exporter": "python",
   "pygments_lexer": "ipython3",
   "version": "3.8.5"
  }
 },
 "nbformat": 4,
 "nbformat_minor": 4
}
