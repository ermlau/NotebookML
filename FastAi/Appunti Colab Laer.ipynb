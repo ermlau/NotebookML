{
 "cells": [
  {
   "cell_type": "markdown",
   "metadata": {},
   "source": [
    "# Colab"
   ]
  },
  {
   "cell_type": "markdown",
   "metadata": {},
   "source": [
    "Ecco gli step per configurare colab\n",
    " 1. accedere ad un account google\n",
    " 2. accedere alla pagina di benvenuto : https://colab.research.google.com/notebooks/welcome.ipynb#recent=true\n",
    " 3. se si vuole creare un nuovo notebook allora crearlo, altrimenti si può cliccare sul tab github, cercare per organizazione inserendo ‘fastai/course-v3’ oppure inserire un url di un'altro notebook in github\n",
    " 4. bisogna dire a colab che vogliamo eseguire su GPU quindi andiamo sulla tab 'Runtime' selezioaniamo ‘Change runtime type’. Selezioniamo ‘GPU’ e clicchiamo su ‘Save’. (Meglio fare il cambio in GPU solo quando serve altrimenti google potrebbe penalizzarci)\n",
    " 5. eseguiamo l'istruzione (in una cella) :  !curl -s https://course19.fast.ai/setup/colab | bash\n",
    " 6. i file creati in colab vengono cancellati quando ci scolleghiamo. Quindi dobbiamo collegarci ad un'area nel google drive. Per farlo dobbiamo cliccare su 'monta drive' nel menu a sinistra che si apre cliccando sull'icona del folder.\n",
    " 7. aggiungere i comandi **root_dir = \"drive/My Drive/\"** e **base_dir = root_dir + 'fastai-v3/'** all'inizio di ogni notebook colab. Usare queste variabili per accedere ai file in drive. Ad es. path = Path(base_dir + 'data/bears')\n",
    " "
   ]
  },
  {
   "cell_type": "code",
   "execution_count": null,
   "metadata": {},
   "outputs": [],
   "source": []
  }
 ],
 "metadata": {
  "kernelspec": {
   "display_name": "Python 3",
   "language": "python",
   "name": "python3"
  },
  "language_info": {
   "codemirror_mode": {
    "name": "ipython",
    "version": 3
   },
   "file_extension": ".py",
   "mimetype": "text/x-python",
   "name": "python",
   "nbconvert_exporter": "python",
   "pygments_lexer": "ipython3",
   "version": "3.8.5"
  }
 },
 "nbformat": 4,
 "nbformat_minor": 4
}
