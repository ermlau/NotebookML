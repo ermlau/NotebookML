{
 "cells": [
  {
   "cell_type": "markdown",
   "metadata": {},
   "source": [
    "# Indice\n",
    "<a id='Variabili'>Variabili</a>\n"
   ]
  },
  {
   "cell_type": "markdown",
   "metadata": {},
   "source": [
    "### Librerie\n",
    "\n",
    "Ecosistema Python per la data science :\n",
    " - NumPy         =>  calcolo vettoriale\n",
    " - Pandas        =>  analisi e gestione dei dati (basato su NumPy)\n",
    " - Matplotlib    =>  visualizzazione\n",
    " - Scikit-learn  =>  preprocessing e apprendimento\n",
    " - Keras         =>  reti neurali\n",
    "\n",
    "l'interfaccia grafica / ambiente usato è Jupyter\n",
    "\n",
    "A [questo link](https://jakevdp.github.io/PythonDataScienceHandbook/02.00-introduction-to-numpy.html) c'è un estratto del *Python Data Science Handbook* dedicato a NumPy."
   ]
  },
  {
   "cell_type": "markdown",
   "metadata": {},
   "source": [
    "# Python\n",
    "Python è **case sensitive** e \n",
    "non serve nessun ; o altro di chiusura riga\n",
    "\n",
    "Python è un linguaggio multi-paradigma, che supporta cioè :\n",
    " - la programmazione procedurale (che fa uso delle funzioni)\n",
    " - la programmazione funzionale (includendo iteratori e generatori)\n",
    " - la programmazione ad oggetti (includendo funzionalità come l’ereditarietà singola e multipla, l’overloading degli operatori, e il duck typing)\n"
   ]
  },
  {
   "cell_type": "markdown",
   "metadata": {},
   "source": [
    "## Commenti e docstring"
   ]
  },
  {
   "cell_type": "code",
   "execution_count": 1,
   "metadata": {},
   "outputs": [],
   "source": [
    "# Commenti : il commento è con # e Python non ha commenti multiriga"
   ]
  },
  {
   "cell_type": "markdown",
   "metadata": {},
   "source": [
    "Un **docstring** è un letterale di tipo stringa inserito nel codice sorgente che ha la funzione, analogamente ad un commento, di documentare una porzione di codice. <br>\n",
    "A differenza dei commenti, in testo semplice o con una formattazione particolare come javadoc o doxygen, che vengono ignorati dal parser del compilatore o dell'interprete, le docstring vengono conservate e sono disponibili a runtime, \n",
    "semplificando l'ispezione del codice e fornendo aiuto o metadati durante l'esecuzione.<br>"
   ]
  },
  {
   "cell_type": "code",
   "execution_count": 2,
   "metadata": {},
   "outputs": [],
   "source": [
    "\"\"\"\n",
    "docstring esterna alla classe ma presente nel modulo\n",
    "visibile chiamando help([NomeModulo])\n",
    "\"\"\"\n",
    "class MyClass(object):\n",
    "    \"\"\"\n",
    "    Questa docstring spiega \n",
    "    cosa fà la classe\n",
    "    \"\"\"\n",
    "\n",
    "    def my_method(self):\n",
    "        \"\"\"Docstring del metodo.\"\"\"\n",
    "\n",
    "def my_function():\n",
    "    \"\"\"Docstring della funzione.\"\"\""
   ]
  },
  {
   "cell_type": "code",
   "execution_count": 3,
   "metadata": {},
   "outputs": [
    {
     "name": "stdout",
     "output_type": "stream",
     "text": [
      "Help on class MyClass in module __main__:\n",
      "\n",
      "class MyClass(builtins.object)\n",
      " |  Questa docstring spiega \n",
      " |  cosa fà la classe\n",
      " |  \n",
      " |  Methods defined here:\n",
      " |  \n",
      " |  my_method(self)\n",
      " |      Docstring del metodo.\n",
      " |  \n",
      " |  ----------------------------------------------------------------------\n",
      " |  Data descriptors defined here:\n",
      " |  \n",
      " |  __dict__\n",
      " |      dictionary for instance variables (if defined)\n",
      " |  \n",
      " |  __weakref__\n",
      " |      list of weak references to the object (if defined)\n",
      "\n"
     ]
    }
   ],
   "source": [
    "help(MyClass)\n",
    "# se la classe era interna ad un modulo l'help diventava help([NomeModulo].MyClass)"
   ]
  },
  {
   "cell_type": "code",
   "execution_count": 4,
   "metadata": {},
   "outputs": [
    {
     "name": "stdout",
     "output_type": "stream",
     "text": [
      "Help on function my_method in module __main__:\n",
      "\n",
      "my_method(self)\n",
      "    Docstring del metodo.\n",
      "\n"
     ]
    }
   ],
   "source": [
    "help(MyClass.my_method)\n",
    "#help('__main__') # help del modulo principale"
   ]
  },
  {
   "cell_type": "markdown",
   "metadata": {},
   "source": [
    "### variabili\n",
    "\n",
    "Ogni nome di variabile deve iniziare con una lettera o con il carattere underscore (_), e può essere seguita da lettere, numeri, o underscore\n",
    "\n",
    "Una singolare possibilità offerta da Python è rappresentata dall’assegnamento multiplo, che permette di inizializzare più variabili direttamente sulla stessa riga di codice.\n",
    "\n",
    "a, b, c = 2, 3, 5  # assegnamento multiplo\n",
    "\n"
   ]
  },
  {
   "cell_type": "markdown",
   "metadata": {},
   "source": [
    "operazioni base :\n",
    "+, -, *, /, % (modulo)\n",
    "\n",
    "Trick mnemonico : PEMDAS ovvero\n",
    "Parentesi ()\n",
    "Esponente **\n",
    "Moltiplicazione *\n",
    "Divisione /\n",
    "Addizione + \n",
    "Sottrazione -\n",
    "\n",
    "Gli operatori con la stessa precedenza sono valutati da sinistra verso destra\n"
   ]
  },
  {
   "cell_type": "code",
   "execution_count": 5,
   "metadata": {},
   "outputs": [
    {
     "name": "stdout",
     "output_type": "stream",
     "text": [
      "x= 3\n",
      "y= 5\n",
      "x è di tipo  <class 'int'>\n",
      "nuovo valore x= 5\n"
     ]
    }
   ],
   "source": [
    "# i nomi consigliati sono in minuscole con eventuali _ tra le parole\n",
    "# per creazioni multiple  \n",
    "x, y = 3, 5\n",
    "print('x=',x)\n",
    "print('y=',y)\n",
    "# per ottenere il tipo di dato \n",
    "print('x è di tipo ',type(x))\n",
    "# per fare lo swap di variabili \n",
    "x,y = y,x\n",
    "# print dato\n",
    "print('nuovo valore x=',x)"
   ]
  },
  {
   "cell_type": "code",
   "execution_count": 6,
   "metadata": {},
   "outputs": [
    {
     "name": "stdout",
     "output_type": "stream",
     "text": [
      "-5   <class 'int'>\n",
      "5.5   <class 'float'>\n",
      "True   <class 'bool'>\n",
      "(5+4j)   <class 'complex'>\n",
      "5   <class 'str'>\n",
      "b'5'   <class 'bytes'>\n",
      "5   <class 'int'>\n"
     ]
    }
   ],
   "source": [
    "# Tipi di dati semplici\n",
    "x = -5 \n",
    "print(x,' ',type(x))\n",
    "\n",
    "x = 5.5\n",
    "print(x,' ',type(x))\n",
    "\n",
    "x = True\n",
    "print(x,' ',type(x))\n",
    "\n",
    "x = 5+4j\n",
    "print(x,' ',type(x))\n",
    "\n",
    "x = '5'\n",
    "print(x,' ',type(x))\n",
    "\n",
    "x = b'5'\n",
    "print(x,' ',type(x))\n",
    "\n",
    "# cast esplicito\n",
    "x = int(x)\n",
    "print(x,' ',type(x))\n",
    "\n"
   ]
  },
  {
   "cell_type": "code",
   "execution_count": 7,
   "metadata": {},
   "outputs": [
    {
     "name": "stdout",
     "output_type": "stream",
     "text": [
      "[1, 2, 3, 4]   <class 'list'>\n",
      "(1, 2, 3, 4)   <class 'tuple'>\n",
      "range(0, 6)   <class 'range'>\n",
      "{1, 2, '3', 5.5}   <class 'set'>\n",
      "frozenset({1, 2, 3, 4})   <class 'frozenset'>\n",
      "{'nome': 'ciccio', 'eta': 5}   <class 'dict'>\n",
      "\n",
      "Variable      Type         Data/Info\n",
      "------------------------------------\n",
      "MyClass       type         <class '__main__.MyClass'>\n",
      "d             dict         n=2\n",
      "f             frozenset    frozenset({1, 2, 3, 4})\n",
      "my_function   function     <function my_function at 0x00000228ECF34B80>\n",
      "s             set          {1, 2, '3', 5.5}\n",
      "x             list         n=4\n",
      "y             tuple        n=4\n",
      "z             range        range(0, 6)\n"
     ]
    }
   ],
   "source": [
    "# Tipi di dati aggregati\n",
    "x = [1,2,3,4] # Lista\n",
    "print(x,' ',type(x))\n",
    "y = (1,2,3,4) # Tupla\n",
    "print(y,' ',type(y))\n",
    "z = range(6)  # Range\n",
    "print(z,' ',type(z))\n",
    "s = {1,2,'3',5.5} # Set\n",
    "print(s,' ',type(s))\n",
    "f = frozenset({1,2,3,4}) # Frozenset : ovvero set non mutabile\n",
    "print(f,' ',type(f))\n",
    "d = { \"nome\": \"ciccio\" , \"eta\": 5 } #Dictionary\n",
    "print(d,' ',type(d))\n",
    "print('')\n",
    "# lista variabili in memoria\n",
    "%whos"
   ]
  },
  {
   "cell_type": "markdown",
   "metadata": {},
   "source": [
    "# Ambiente virtuale VENV"
   ]
  },
  {
   "cell_type": "markdown",
   "metadata": {},
   "source": [
    "https://www.evemilano.com/python-venv/"
   ]
  },
  {
   "cell_type": "markdown",
   "metadata": {},
   "source": [
    " - per creare un ambiente virtuale : <br>\n",
    "python3 -m venv [NomeAmbienteVirtuale]\n",
    "\n",
    " - per attivarlo : <br>\n",
    "source env/bin/activate\n",
    "\n",
    " - per disattivarlo : <br>\n",
    "deactivate\n",
    "\n",
    " - Per visualizzare l’ambiente virtuale attivo : <br>\n",
    "which python\n",
    "\n",
    " - Per visualizzare tutti i pacchetti installati  <br>\n",
    "pip3 freeze \n",
    "\n",
    " - Per creare il file requirements.txt con tutti i pacchetti installati  <br>\n",
    "pip freeze > requirements.txt \n",
    "\n",
    " - Per installare i requirements in un nuovo ambiente virtuale venv : <br>\n",
    "pip3 install -r requirements.txt.\n",
    "\n",
    " - Per rimuovere completamente un virtual environment : <br>\n",
    "rm -r venv/\n",
    "\n"
   ]
  },
  {
   "cell_type": "markdown",
   "metadata": {},
   "source": [
    "# tipi di dati\n",
    "\n",
    "Per ulteriori info al di fuori di quelle dettagliate qui sotto andare al link :\n",
    "https://docs.python.org/3/library/stdtypes.html"
   ]
  },
  {
   "cell_type": "markdown",
   "metadata": {},
   "source": [
    "### int"
   ]
  },
  {
   "cell_type": "code",
   "execution_count": 8,
   "metadata": {},
   "outputs": [
    {
     "name": "stdout",
     "output_type": "stream",
     "text": [
      "<class 'int'>\n",
      "<class 'int'>\n",
      "3.5\n",
      "<class 'float'>\n"
     ]
    }
   ],
   "source": [
    "print(type(4))\n",
    "print(type(-3))\n",
    "#try taking the mean\n",
    "numbers = [2, 3, 4, 5]\n",
    "print(sum(numbers)/len(numbers))\n",
    "print(type(sum(numbers)/len(numbers))) #In Python 3 returns float, but in Python 2 would return int"
   ]
  },
  {
   "cell_type": "markdown",
   "metadata": {},
   "source": [
    "### float"
   ]
  },
  {
   "cell_type": "code",
   "execution_count": 9,
   "metadata": {},
   "outputs": [
    {
     "name": "stdout",
     "output_type": "stream",
     "text": [
      "<class 'float'>\n",
      "<class 'float'>\n",
      "<class 'float'>\n",
      "<class 'float'>\n"
     ]
    }
   ],
   "source": [
    "import math\n",
    "\n",
    "print(type(3/5))\n",
    "print(type(math.pi))\n",
    "print(type(4.0))\n",
    "# Try taking the mean\n",
    "numbers = [math.pi, 3/5, 4.1]\n",
    "print(type(sum(numbers)/len(numbers)))\n"
   ]
  },
  {
   "cell_type": "markdown",
   "metadata": {},
   "source": [
    "### Boolean"
   ]
  },
  {
   "cell_type": "code",
   "execution_count": 10,
   "metadata": {},
   "outputs": [
    {
     "name": "stdout",
     "output_type": "stream",
     "text": [
      "<class 'bool'>\n",
      "<class 'bool'>\n",
      "<class 'bool'>\n",
      "<class 'bool'>\n",
      "<class 'bool'>\n"
     ]
    }
   ],
   "source": [
    "print(type(True))\n",
    "\n",
    "myList = [True, 6<5, 1==3, None is None]\n",
    "for element in myList:\n",
    "    print(type(element))\n",
    "       "
   ]
  },
  {
   "cell_type": "markdown",
   "metadata": {},
   "source": [
    "### stringhe\n",
    "\n",
    "Per definire le stringhe è possibile usare sia gli apici singoli che doppi, come in javascript."
   ]
  },
  {
   "cell_type": "code",
   "execution_count": 65,
   "metadata": {
    "scrolled": true
   },
   "outputs": [
    {
     "name": "stdout",
     "output_type": "stream",
     "text": [
      "<class 'str'>\n",
      "francesco\n",
      "FRANCESCO\n",
      "Francesca\n",
      "Ciao Francesco\n",
      "Allora, Ciao il tuo numero fortunato è 5.23 e ti chiami Francesco\n"
     ]
    }
   ],
   "source": [
    "a = 'Francesco'\n",
    "print(type(a))\n",
    "print(a.lower()) #trasforma la stringa in minuscolo\n",
    "print(a.upper()) #trasforma la stringa in maiuscolo\n",
    "print(a.replace('o','a')) #costruisce una nuova stringa operando una sostituzione di carattere\n",
    "c = \"Ciao\"\n",
    "print(c, a)#print aggiunge uno spazio tra gli argomenti e converte b in una stringa\n",
    "n = 5.23454643\n",
    "print('Allora, {} il tuo numero fortunato è {:.2f} e ti chiami {}'.format(c, n, a))"
   ]
  },
  {
   "cell_type": "markdown",
   "metadata": {},
   "source": [
    "### Nonetype"
   ]
  },
  {
   "cell_type": "code",
   "execution_count": 12,
   "metadata": {},
   "outputs": [
    {
     "name": "stdout",
     "output_type": "stream",
     "text": [
      "<class 'NoneType'>\n"
     ]
    }
   ],
   "source": [
    "x = None\n",
    "print(type(x))\n"
   ]
  },
  {
   "cell_type": "markdown",
   "metadata": {},
   "source": [
    "### LISTE"
   ]
  },
  {
   "cell_type": "code",
   "execution_count": 66,
   "metadata": {},
   "outputs": [
    {
     "name": "stdout",
     "output_type": "stream",
     "text": [
      "<class 'list'>\n",
      "indice 0 :  a\n",
      "indice -1 :  e\n",
      "fetta 1..4 :  ['b', 'c', 'd']\n",
      "a presente :  True\n",
      "['a', 'b', 'c', 'd', 'e', 'f', 'g', 'h']\n",
      "[1, 2, 3, 1, 2, 3, 1, 2, 3]\n",
      "numero di elementi :  5\n",
      "elemento più piccolo :  a\n",
      "elemento più grande :  e\n",
      "indice dell elemento  c :  2\n",
      "numero di occorrenze di c :  1\n"
     ]
    }
   ],
   "source": [
    "# Così come le tuple e le stringhe, anche le liste sono un tipo di sequenza, e supportano quindi le operazioni \n",
    "# comuni a tutte le sequenze, come indexing, slicing, contenimento, concatenazione, e ripetizione:\n",
    "\n",
    "letters = ['a', 'b', 'c', 'd', 'e']\n",
    "\n",
    "print(type(letters))\n",
    "\n",
    "print(\"indice 0 : \",letters[0]) # le liste supportano indexing\n",
    "\n",
    "print(\"indice -1 : \",letters[-1])\n",
    "\n",
    "print(\"fetta 1..4 : \",letters[1:4]) # slicing\n",
    "\n",
    "print('a presente : ','a' in letters) # gli operatori di contenimento \"in\" e \"not in\"\n",
    "\n",
    "print(letters + ['f', 'g', 'h']) # concatenazione (ritorna una nuova lista)\n",
    "\n",
    "print([1, 2, 3] * 3) # ripetizione (ritorna una nuova lista)\n",
    "\n",
    "print('numero di elementi : ' ,len(letters)) # numero di elementi\n",
    "\n",
    "print('elemento più piccolo : ' ,min(letters)) # elemento più piccolo (alfabeticamente nel caso di stringhe)\n",
    "\n",
    "print('elemento più grande : ' ,max(letters)) # elemento più grande\n",
    "\n",
    "print('indice dell elemento  c : ',letters.index('c')) # indice dell'elemento 'c'\n",
    "\n",
    "print('numero di occorrenze di c : ',letters.count('c')) # numero di occorrenze di 'c'\n",
    "\n"
   ]
  },
  {
   "cell_type": "code",
   "execution_count": 14,
   "metadata": {},
   "outputs": [
    {
     "name": "stdout",
     "output_type": "stream",
     "text": [
      "['a', 'b', 'c', 'd']\n",
      "['a', 'b', 'c', 'd', 'e', 'f']\n",
      "['a', 'b', 'c', 'd', 'e', 'f', ['e', 'f']]\n",
      "['e', 'f']\n",
      "f\n",
      "a\n",
      "['b', 'c', 'e']\n",
      "['e', 'c', 'b']\n",
      "['e', 'x', 'b']\n",
      "['e', 'b']\n",
      "[]\n"
     ]
    }
   ],
   "source": [
    "letters = ['a', 'b', 'c']\n",
    "\n",
    "letters.append('d') # aggiunge 'd' alla fine\n",
    "print(letters)\n",
    "\n",
    "letters.extend(['e', 'f']) # aggiunge 'e' e 'f' alla fine\n",
    "print(letters)\n",
    "\n",
    "letters.append(['e', 'f']) # aggiunge la lista come elemento alla fine\n",
    "print(letters)\n",
    "\n",
    "print(letters.pop()) # rimuove e ritorna l'ultimo elemento (la lista)\n",
    "\n",
    "\n",
    "print(letters.pop()) # rimuove e ritorna l'ultimo elemento ('f')\n",
    "\n",
    "print(letters.pop(0)) # rimuove e ritorna l'elemento in posizione 0 ('a')\n",
    "\n",
    "letters.remove('d') # rimuove l'elemento 'd'\n",
    "print(letters)\n",
    "\n",
    "letters.reverse() # inverte l'ordine \"sul posto\" e non ritorna niente\n",
    "print(letters)\n",
    "\n",
    "letters[1] = 'x' # sostituisce l'elemento in posizione 1 ('c') con 'x'\n",
    "print(letters)\n",
    "\n",
    "del letters[1] # rimuove l'elemento in posizione 1 ('x')\n",
    "print(letters)\n",
    "\n",
    "letters.clear() # rimuove tutti gli elementi rimasti\n",
    "print(letters)\n"
   ]
  },
  {
   "cell_type": "markdown",
   "metadata": {},
   "source": [
    "### Insiemi - sets"
   ]
  },
  {
   "cell_type": "markdown",
   "metadata": {},
   "source": [
    "I set sono delle liste che non possono avere elementi ripetuti. Sono paragonabili agli insiemi.\n",
    "Per creare un set è possibile usare le parentesi graffe\n",
    "\n"
   ]
  },
  {
   "cell_type": "code",
   "execution_count": 78,
   "metadata": {},
   "outputs": [
    {
     "name": "stdout",
     "output_type": "stream",
     "text": [
      "<class 'set'>\n",
      "{123, 'uno', (3, 4, 5), 'due'}\n"
     ]
    }
   ],
   "source": [
    "# con questa istruzione si vede come non possiamo inserire elementi ripetuti\n",
    "t = {'uno','due','uno',123,(3,4,5)}\n",
    "print(type(t))\n",
    "print(t)"
   ]
  },
  {
   "cell_type": "markdown",
   "metadata": {},
   "source": [
    "in alternativa è possibile usare l'istruzione set passandogli una lista di valori"
   ]
  },
  {
   "cell_type": "code",
   "execution_count": 77,
   "metadata": {},
   "outputs": [
    {
     "name": "stdout",
     "output_type": "stream",
     "text": [
      "<class 'set'>\n",
      "{'uno', 'due'}\n",
      "{'and', 'Eric', 'name', 'is', 'my'}\n"
     ]
    }
   ],
   "source": [
    "v = set(['uno','due','uno'])\n",
    "print(type(v))\n",
    "print(v)\n",
    "\n",
    "print(set(\"my name is Eric and Eric is my name\".split()))"
   ]
  },
  {
   "cell_type": "markdown",
   "metadata": {},
   "source": [
    "Dato che inpython delle parentesi graffe vuote {} è un dictionary vuoto allora per creare un set vuoto si usa l'istruzione set() senza argomenti"
   ]
  },
  {
   "cell_type": "code",
   "execution_count": 79,
   "metadata": {},
   "outputs": [
    {
     "name": "stdout",
     "output_type": "stream",
     "text": [
      "<class 'set'>\n"
     ]
    }
   ],
   "source": [
    "a = set()\n",
    "print(type(a))"
   ]
  },
  {
   "cell_type": "code",
   "execution_count": 83,
   "metadata": {},
   "outputs": [
    {
     "name": "stdout",
     "output_type": "stream",
     "text": [
      "{1, 3}\n",
      "{1, 2, 3}\n",
      "{1, 2, 3, 4}\n",
      "{1, 2, 3, 4, 5, 6, 8}\n",
      "{1, 2, 3, 5, 6, 8}\n",
      "{1, 2, 3, 5, 6, 8}\n"
     ]
    }
   ],
   "source": [
    "# operazioni principali sui set :\n",
    "# initializzo il set\n",
    "my_set = {1, 3}\n",
    "print(my_set)\n",
    "\n",
    "# i set non supportano l'indicizzazione come ad esempio : my_set[0]\n",
    "\n",
    "# aggiungi un elemento : add\n",
    "my_set.add(2)\n",
    "print(my_set)\n",
    "\n",
    "# aggiungi elementi multipli\n",
    "my_set.update([2, 3, 4])\n",
    "print(my_set)\n",
    "\n",
    "# aggiungi liste e set\n",
    "my_set.update([4, 5], {1, 6, 8})\n",
    "print(my_set)\n",
    "\n",
    "# cancella un elemento\n",
    "my_set.discard(4)\n",
    "print(my_set)\n",
    "\n",
    "# cancella un elemento\n",
    "# not presente\n",
    "my_set.discard(4)\n",
    "print(my_set)\n",
    "\n",
    "# Differenza tra discard e remove\n",
    "# rimuovere un elemento\n",
    "# not presente darà un errore\n",
    "#my_set.remove(4)"
   ]
  },
  {
   "cell_type": "code",
   "execution_count": 67,
   "metadata": {},
   "outputs": [
    {
     "name": "stdout",
     "output_type": "stream",
     "text": [
      "<class 'set'>\n",
      "Intersezione : {'John'}\n",
      "Differenza simmetrica : {'Eric', 'Jill', 'Jake'}\n",
      "a escluso b : {'Eric', 'Jake'}\n",
      "b escluso a : {'Jill'}\n",
      "unione : {'Eric', 'Jill', 'John', 'Jake'}\n"
     ]
    }
   ],
   "source": [
    "# La potenza degli insiemi si nota quando dobbiamo applicare le operazioni insiemistiche :\n",
    "a = set([\"Jake\", \"John\", \"Eric\"])\n",
    "b = set([\"John\", \"Jill\"])\n",
    "\n",
    "print('Intersezione :' , a.intersection(b))\n",
    "print('Differenza simmetrica :' , a.symmetric_difference(b))\n",
    "print('a escluso b :' , a.difference(b))\n",
    "print('b escluso a :' , b.difference(a))\n",
    "print('unione :' , a.union(b))"
   ]
  },
  {
   "cell_type": "markdown",
   "metadata": {},
   "source": [
    "Per ulteriori approfondimenti :\n",
    "https://www.programiz.com/python-programming/set"
   ]
  },
  {
   "cell_type": "markdown",
   "metadata": {},
   "source": [
    "### DIZIONARI\n",
    "I dizionari vengono definiti elencando tra parentesi graffe ({}) una serie di elementi separati da virgole (,), dove ogni elemento è formato da una chiave e un valore separati dai due punti (:). È possibile creare un dizionario vuoto usando le parentesi graffe senza nessun elemento all’interno"
   ]
  },
  {
   "cell_type": "markdown",
   "metadata": {},
   "source": [
    "Le chiavi di un dizionario sono solitamente stringhe, ma è possibile usare anche altri tipi, a patto che siano “hashabili” (in genere i tipi immutabili lo sono). I valori possono essere di qualsiasi tipo."
   ]
  },
  {
   "cell_type": "code",
   "execution_count": 68,
   "metadata": {},
   "outputs": [
    {
     "name": "stdout",
     "output_type": "stream",
     "text": [
      "{20: ['Jack', 'Jane'], 28: ['John', 'Mary']}\n",
      "{(0, 10): 'primo intervallo'}\n",
      "<class 'dict'>\n"
     ]
    }
   ],
   "source": [
    "d = {20: ['Jack', 'Jane'], 28: ['John', 'Mary']}  # int come chiavi, list come valori\n",
    "print(d)\n",
    "\n",
    "d = {(0, 10): 'primo intervallo'}  # le tuple sono hashabili\n",
    "print(d)\n",
    "\n",
    "# d = {[0, 10]: 'primo intervallo'}  # le liste non sono hashabili, non sono chiavi valide\n",
    "\n",
    "print(type(d))"
   ]
  },
  {
   "cell_type": "code",
   "execution_count": 19,
   "metadata": {},
   "outputs": [
    {
     "name": "stdout",
     "output_type": "stream",
     "text": [
      "2\n",
      "x è in d :  False\n",
      "x NON è in d :  True\n",
      "{'a': 10, 'b': 2, 'c': 3}\n",
      "{'a': 10, 'b': 2, 'c': 3, 'x': 123}\n",
      "{'a': 10, 'b': 2, 'c': 3}\n"
     ]
    }
   ],
   "source": [
    "d = {'a': 1, 'b': 2, 'c': 3}\n",
    "print(d['b'])  # ritorna il valore associato alla chiave 'a'\n",
    "# d['x']  # se la chiave non esiste restituisce un KeyError\n",
    "\n",
    "print('x è in d : ','x' in d)  # la chiave 'x' non è presente in d\n",
    "\n",
    "print('x NON è in d : ','x' not in d)  # la chiave 'x' non è presente in d\n",
    "\n",
    "d['a'] = 10  # modifica il valore associato a una chiave esistente\n",
    "print(d)\n",
    "\n",
    "d['x'] = 123  # crea un nuovo elemento, con chiave 'x' e valore 123\n",
    "print(d)\n",
    "\n",
    "del d['x']  # rimuove l'elemento (chiave e valore) con chiave 'x'\n",
    "print(d)\n"
   ]
  },
  {
   "cell_type": "code",
   "execution_count": 20,
   "metadata": {},
   "outputs": [
    {
     "name": "stdout",
     "output_type": "stream",
     "text": [
      "len  3\n",
      "dict_items([('a', 1), ('b', 2), ('c', 3)])\n",
      "chiavi  dict_keys(['a', 'b', 'c'])\n",
      "valori dict_values([1, 2, 3])\n",
      "valore corrispondente a c :  3\n",
      "0\n",
      "{'a': 1, 'b': 2, 'c': 3}\n",
      "pop elemento a :  1\n",
      "0\n",
      "{'b': 2, 'c': 3}\n",
      "pop item casuale :  ('c', 3)\n",
      "{'b': 2}\n",
      "{'b': 2, 'a': 1, 'c': 3}\n",
      "{}\n"
     ]
    }
   ],
   "source": [
    "d = {'a': 1, 'b': 2, 'c': 3}  # nuovo dict di 3 elementi\n",
    "\n",
    "print('len ' , len(d))  # verifica che siano 3\n",
    "\n",
    "print(d.items())  # restituisce gli elementi\n",
    "\n",
    "print('chiavi ' , d.keys())  # restituisce le chiavi\n",
    "\n",
    "print('valori' , d.values())  # restituisce i valori\n",
    "\n",
    "print('valore corrispondente a c : ', d.get('c', 0))  # restituisce il valore corrispondente a 'c'\n",
    "\n",
    "print(d.get('x', 0))  # restituisce il default 0 perché 'x' non è presente\n",
    "\n",
    "print(d)  # il dizionario contiene ancora tutti gli elementi\n",
    "\n",
    "print('pop elemento a : ' , d.pop('a', 0))  # restituisce e rimuove il valore corrispondente ad 'a'\n",
    "\n",
    "print(d.pop('x', 0))  # restituisce il default 0 perché 'x' non è presente\n",
    "\n",
    "print(d)  # l'elemento con chiave 'a' è stato rimosso\n",
    "\n",
    "#print(d.pop('x'))  # senza default e con chiave inesistente dà errore\n",
    "\n",
    "print('pop item casuale : ' , d.popitem())  # restituisce e rimuove un elemento arbitrario\n",
    "\n",
    "print(d)  # l'elemento con chiave 'c' è stato rimosso\n",
    "\n",
    "d.update({'a': 1, 'c': 3})  # aggiunge di nuovo gli elementi 'a' e 'c'\n",
    "print(d)\n",
    "\n",
    "d.clear()  # rimuove tutti gli elementi\n",
    "print(d)  # lasciando un dizionario vuoto\n"
   ]
  },
  {
   "cell_type": "markdown",
   "metadata": {},
   "source": [
    "## Slicing e manipolazioni"
   ]
  },
  {
   "cell_type": "code",
   "execution_count": 21,
   "metadata": {},
   "outputs": [
    {
     "name": "stdout",
     "output_type": "stream",
     "text": [
      "elemento alla posizione 3 =>  d\n",
      "elemento alla posizione -2 =>  f\n",
      "elemento dalla posizione 2 alla 5 =>  ['c', 'd', 'e']\n",
      "elemento fino alla posizione 2 =>  ['a', 'b']\n",
      "elemento fino alla posizione -2 =>  ['a', 'b', 'c', 'd', 'e']\n",
      "elemento di posizione dispari =>  ['a', 'c', 'e', 'g']\n",
      "elemento di posizione dispari =>  ['g', 'e', 'c', 'a']\n"
     ]
    }
   ],
   "source": [
    "# sintassi per slice su una lista di nome a\n",
    "# a[start:stop:step]\n",
    "\n",
    "#Accesso ad un elemento\n",
    "lista = [\"a\",\"b\",\"c\",\"d\",\"e\",\"f\",\"g\"]  # zero based\n",
    "\n",
    "#slicing\n",
    "print('elemento alla posizione 3 => ' , lista[3])\n",
    "print('elemento alla posizione -2 => ' , lista[-2])\n",
    "print('elemento dalla posizione 2 alla 5 => ' , lista[2:5])  \n",
    "print('elemento fino alla posizione 2 => ' , lista[:2])\n",
    "print('elemento fino alla posizione -2 => ' , lista[:-2])\n",
    "print('elemento di posizione dispari => ' , lista[::2])\n",
    "print('elemento di posizione dispari => ' , lista[::-2])"
   ]
  },
  {
   "cell_type": "markdown",
   "metadata": {},
   "source": [
    "# Check esistenza"
   ]
  },
  {
   "cell_type": "code",
   "execution_count": 61,
   "metadata": {},
   "outputs": [
    {
     "name": "stdout",
     "output_type": "stream",
     "text": [
      "lista esiste\n",
      "myVar non esiste\n",
      "loggetto letters ha un attributo/funzione di nome append [letters.append()]\n"
     ]
    }
   ],
   "source": [
    "# Controllo l'esistenza di una variabile locale: \n",
    "if 'lista' in locals(): # da notare che bisogna cercare il nome della varaibile e non la variabile stessa\n",
    "    print('lista esiste')\n",
    "else:\n",
    "    print('lista non esiste')\n",
    "\n",
    "# Controllo l'esistenza di una variabile globale:\n",
    "if 'myVar' in globals():\n",
    "    print('myVar esiste')\n",
    "else:\n",
    "    print('myVar non esiste')\n",
    "\n",
    "# Controllo l'esistenza di un'attributo di un'oggetto:\n",
    "if hasattr(letters, 'append'):\n",
    "    print('l''oggetto letters ha un attributo/funzione di nome append [letters.append()]')\n",
    "else:\n",
    "    print('l''oggetto letters non ha un attributo/funzione di nome append [letters.append()]')\n"
   ]
  },
  {
   "cell_type": "markdown",
   "metadata": {},
   "source": [
    "# ISTRUZIONI CONDIZIONALI"
   ]
  },
  {
   "cell_type": "code",
   "execution_count": 22,
   "metadata": {},
   "outputs": [
    {
     "name": "stdout",
     "output_type": "stream",
     "text": [
      "pari\n"
     ]
    }
   ],
   "source": [
    "# IF\n",
    "n=6\n",
    "if n%2 == 0:\n",
    "    print('pari')\n",
    "else:\n",
    "    print('dispari')"
   ]
  },
  {
   "cell_type": "code",
   "execution_count": 113,
   "metadata": {},
   "outputs": [
    {
     "name": "stdout",
     "output_type": "stream",
     "text": [
      "non sò che numero è\n"
     ]
    }
   ],
   "source": [
    "n=3\n",
    "if n<3:\n",
    "    print('minore di 3')\n",
    "elif n>3:\n",
    "    print('maggiore di 3')\n",
    "elif n>5:\n",
    "    print('maggiore di 5')\n",
    "else:\n",
    "    print('non sò che numero è')\n",
    "    \n",
    "# In Python non esiste il costrutto switch-case, ma è tuttavia possibile ottenere \n",
    "# lo stesso risultato semplicemente usando un if-elif-else\n"
   ]
  },
  {
   "cell_type": "markdown",
   "metadata": {},
   "source": [
    "# CICLI"
   ]
  },
  {
   "cell_type": "markdown",
   "metadata": {},
   "source": [
    "### FOR\n",
    "Il ciclo for ci permette di iterare su tutti gli elementi di un iterabile ed eseguire un determinato blocco di codice. Un iterabile è un qualsiasi oggetto in grado di restituire tutti gli elementi uno dopo l’altro, come ad esempio liste, tuple, set, dizionari (restituiscono le chiavi), ecc"
   ]
  },
  {
   "cell_type": "code",
   "execution_count": 24,
   "metadata": {},
   "outputs": [
    {
     "name": "stdout",
     "output_type": "stream",
     "text": [
      "Il quadrato di 1 è 1\n",
      "Il quadrato di 2 è 4\n",
      "Il quadrato di 3 è 9\n",
      "Il quadrato di 4 è 16\n",
      "Il quadrato di 5 è 25\n"
     ]
    }
   ],
   "source": [
    "seq = [1, 2, 3, 4, 5]\n",
    "for n in seq:\n",
    "    print('Il quadrato di', n, 'è', n**2)"
   ]
  },
  {
   "cell_type": "markdown",
   "metadata": {},
   "source": [
    "Possiamo anche iterare su una lista e avere l'indice degli elementi usando una forma specializzata di for"
   ]
  },
  {
   "cell_type": "code",
   "execution_count": 25,
   "metadata": {},
   "outputs": [
    {
     "name": "stdout",
     "output_type": "stream",
     "text": [
      "L'elemento in posizione 0 è triangle\n",
      "L'elemento in posizione 1 è square\n",
      "L'elemento in posizione 2 è circle\n",
      "L'elemento in posizione 3 è hexagon\n"
     ]
    }
   ],
   "source": [
    "shapes = ['triangle', 'square', 'circle', 'hexagon']\n",
    "\n",
    "for index, element in enumerate(shapes):#prima indice, poi elemento\n",
    "    print(\"L'elemento in posizione {} è {}\".format(index, element))"
   ]
  },
  {
   "cell_type": "markdown",
   "metadata": {},
   "source": [
    "### RANGE\n",
    "Dato che spesso accade di voler lavorare su sequenze di numeri, Python fornisce una funzione built-in chiamata range che permette di specificare uno valore iniziale o start (incluso), un valore finale o stop (escluso), e uno step, e che ritorna una sequenza di numeri interi"
   ]
  },
  {
   "cell_type": "code",
   "execution_count": 26,
   "metadata": {},
   "outputs": [
    {
     "name": "stdout",
     "output_type": "stream",
     "text": [
      "range(0, 5)\n",
      "[0, 1, 2, 3, 4]\n",
      "[5, 6, 7, 8, 9]\n",
      "[0, 2, 4, 6, 8]\n",
      "Il quadrato di 1 è 1\n",
      "Il quadrato di 3 è 9\n",
      "Il quadrato di 5 è 25\n",
      "Python\n",
      "Python\n",
      "Python\n"
     ]
    }
   ],
   "source": [
    "print(range(5))  # ritorna un oggetto range con start uguale a 0 e stop uguale a 5\n",
    "\n",
    "print(list(range(5)))  # convertendolo in lista possiamo vedere i valori\n",
    "\n",
    "print(list(range(5, 10)))  # con 2 argomenti si può specificare lo start e lo stop\n",
    "\n",
    "print(list(range(0, 10, 2)))  # con 3 argomenti si può specificare anche lo step\n",
    "\n",
    "#Questa funzione è particolarmente utile se combinata con il ciclo for\n",
    "for n in range(1, 6,2):\n",
    "    print('Il quadrato di', n, 'è', n**2)\n",
    "    \n",
    "# range può anche essere usato in combinazione con il ciclo for se vogliamo ripetere \n",
    "# un blocco di codice un numero fisso di volte:\n",
    "for x in range(3):\n",
    "    print('Python')\n",
    "\n"
   ]
  },
  {
   "cell_type": "markdown",
   "metadata": {},
   "source": [
    "### WHILE"
   ]
  },
  {
   "cell_type": "code",
   "execution_count": 27,
   "metadata": {},
   "outputs": [
    {
     "name": "stdout",
     "output_type": "stream",
     "text": [
      "60\n",
      "50\n",
      "40\n"
     ]
    }
   ],
   "source": [
    "# Il ciclo while itera fintanto che una condizione è vera:\n",
    "seq = [10, 20, 30, 40, 50, 60]\n",
    "while len(seq) > 3:\n",
    "    print(seq.pop())"
   ]
  },
  {
   "cell_type": "markdown",
   "metadata": {},
   "source": [
    "### DO WHILE"
   ]
  },
  {
   "cell_type": "code",
   "execution_count": 28,
   "metadata": {},
   "outputs": [
    {
     "name": "stdout",
     "output_type": "stream",
     "text": [
      "Inserisci un numero da 1 a 10: 5\n",
      "Ritenta sarai più fortunato\n",
      "Inserisci un numero da 1 a 10: 1\n",
      "Ritenta sarai più fortunato\n",
      "Inserisci un numero da 1 a 10: 2\n",
      "Ritenta sarai più fortunato\n",
      "Inserisci un numero da 1 a 10: 3\n",
      "Ritenta sarai più fortunato\n",
      "Inserisci un numero da 1 a 10: 4\n",
      "Ritenta sarai più fortunato\n",
      "Inserisci un numero da 1 a 10: 6\n",
      "Ritenta sarai più fortunato\n",
      "Inserisci un numero da 1 a 10: 7\n",
      "Ritenta sarai più fortunato\n",
      "Inserisci un numero da 1 a 10: 8\n",
      "Hai indovinato!\n"
     ]
    }
   ],
   "source": [
    "# Alcuni altri linguaggi prevedono anche un costrutto chiamato do-while, che esegue almeno \n",
    "# un’iterazione prima di verificare la condizione. In Python questo costrutto non esiste, ma \n",
    "# ottenere un risultato equivalente è molto semplice\n",
    "\n",
    "# chiedi all'utente di inserire numeri finchè indovina\n",
    "n = 8\n",
    "while True:\n",
    "    guess = int(input('Inserisci un numero da 1 a 10: '))\n",
    "    if guess == n:\n",
    "        print('Hai indovinato!')\n",
    "        break  # numero indovinato, interrompi il ciclo\n",
    "    else:\n",
    "        print('Ritenta sarai più fortunato')\n"
   ]
  },
  {
   "cell_type": "markdown",
   "metadata": {},
   "source": [
    "### BREAK E CONTINUE\n",
    "Python prevede 2 costrutti che possono essere usati nei cicli for e while:\n",
    "\n",
    "break: interrompe il ciclo;\n",
    "continue: interrompe l’iterazione corrente e procede alla successiva."
   ]
  },
  {
   "cell_type": "markdown",
   "metadata": {},
   "source": [
    "Una peculiarità di Python è la possibilità di aggiungere un else al for e al while. \n",
    "Il blocco di codice nell’else viene eseguito se il ciclo termina tutte le iterazioni. \n",
    "Se invece il ciclo è interrotto da un break, l’else non viene eseguito. \n",
    "La sintassi è simile a quella che abbiamo già visto con l’if: l’else deve essere indentato allo stesso livello del for/while, deve essere seguito dai due punti (:) e da un blocco indentato"
   ]
  },
  {
   "cell_type": "code",
   "execution_count": 29,
   "metadata": {},
   "outputs": [
    {
     "name": "stdout",
     "output_type": "stream",
     "text": [
      "Inserisci un numero da 1 a 10: 1\n",
      "Inserisci un numero da 1 a 10: 2\n",
      "Inserisci un numero da 1 a 10: 3\n",
      "Tentativi finiti. Non hai indovinato\n"
     ]
    }
   ],
   "source": [
    "n = 8\n",
    "for x in range(3):\n",
    "    guess = int(input('Inserisci un numero da 1 a 10: '))\n",
    "    if guess == n:\n",
    "        print('Hai indovinato!')\n",
    "        break  # numero indovinato, interrompi il ciclo\n",
    "else:\n",
    "    print('Tentativi finiti. Non hai indovinato')\n"
   ]
  },
  {
   "cell_type": "markdown",
   "metadata": {},
   "source": [
    "# FUNZIONI"
   ]
  },
  {
   "cell_type": "markdown",
   "metadata": {},
   "source": [
    "Le funzioni sono uno strumento che ci permette di raggruppare un insieme di istruzioni che eseguono un compito specifico. Le funzioni accettano in input 0 o più argomenti (o parametri), li elaborano, e restituiscono in output un risultato"
   ]
  },
  {
   "cell_type": "code",
   "execution_count": 30,
   "metadata": {},
   "outputs": [
    {
     "name": "stdout",
     "output_type": "stream",
     "text": [
      "4 è pari ?  True\n",
      "5 è pari ?  False\n",
      "Help on function is_even in module __main__:\n",
      "\n",
      "is_even(n)\n",
      "    Ritorna True se n è pari, False altrimenti\n",
      "\n"
     ]
    }
   ],
   "source": [
    "# la sintassi per definire funzioni è molto semplice. \n",
    "# Ad esempio possiamo definire una funzione che ritorna True se un numero è pari o False se è dispari:\n",
    "def is_even(n):\n",
    "    \"\"\"Ritorna True se n è pari, False altrimenti\"\"\"  # è una docstring, ovvero una documentazione della funzione\n",
    "    if n%2 == 0:\n",
    "        return True\n",
    "    else:\n",
    "        return False\n",
    "    \n",
    "print('4 è pari ? ',is_even(4))\n",
    "print('5 è pari ? ',is_even(5))\n",
    "help(is_even)\n"
   ]
  },
  {
   "cell_type": "code",
   "execution_count": 31,
   "metadata": {},
   "outputs": [
    {
     "name": "stdout",
     "output_type": "stream",
     "text": [
      "15\n",
      "15\n",
      "15\n",
      "15\n",
      "tupla  15\n",
      "dizionario  15\n"
     ]
    }
   ],
   "source": [
    "# Quando una funzione viene chiamata, è possibile passare 0 o più argomenti. \n",
    "# Questi argomenti possono essere passati per posizione o per nome:\n",
    "\n",
    "def calc_rect_area(width, height):\n",
    "    \"\"\"Return the area of the rectangle.\"\"\"\n",
    "    return width * height\n",
    "\n",
    "print(calc_rect_area(3, 5))\n",
    "print(calc_rect_area(width=3, height=5))\n",
    "print(calc_rect_area(height=5, width=3))\n",
    "print(calc_rect_area(3, height=5))\n",
    "\n",
    "# gli argomenti possono essere contenuti anche in una sequenza (una tupla in questo caso)\n",
    "size = (3, 5)\n",
    "print('tupla ' , calc_rect_area(*size))  # usiamo * per fare l'unpack degli elementi\n",
    "\n",
    "# o ad un dizionario\n",
    "size = {'width': 3, 'height': 5}\n",
    "print('dizionario ' , calc_rect_area(**size))\n"
   ]
  },
  {
   "cell_type": "code",
   "execution_count": 32,
   "metadata": {},
   "outputs": [
    {
     "name": "stdout",
     "output_type": "stream",
     "text": [
      "Hello World!\n",
      "Hello Python!\n"
     ]
    }
   ],
   "source": [
    "# In questo esempio abbiamo aggiunto un valore di default per il name, \n",
    "# usando name='World'. Questo rende l’argomento corrispondente a name opzionale\n",
    "def say_hello(name='World'):\n",
    "    print('Hello {}!'.format(name))\n",
    "\n",
    "say_hello()\n",
    "say_hello('Python')\n"
   ]
  },
  {
   "cell_type": "code",
   "execution_count": 33,
   "metadata": {},
   "outputs": [
    {
     "name": "stdout",
     "output_type": "stream",
     "text": [
      "Hello Python!\n"
     ]
    }
   ],
   "source": [
    "# Se vogliamo fare in modo che una funzioni accetti solo argomenti passati per nome, \n",
    "# possiamo usare una singola * seguita da virgola. \n",
    "# Tutti gli argomenti che appaiono dopo la * dovranno essere passati per nome\n",
    "\n",
    "def greet(greeting, *, name):\n",
    "    print('{} {}!'.format(greeting, name))\n",
    "\n",
    "greet('Hello', name='Python')\n",
    "# greet('Hello', 'Python') # errore"
   ]
  },
  {
   "cell_type": "code",
   "execution_count": 34,
   "metadata": {},
   "outputs": [
    {
     "name": "stdout",
     "output_type": "stream",
     "text": [
      "Hello Python!\n",
      "Hello Python, PyPy, Jython, IronPython!\n"
     ]
    }
   ],
   "source": [
    "# La * immediatamente prima del nome di un parametro (ad esempio *names) ha invece \n",
    "# un significato diverso: permette alla funzione di accettare un numero variabile di \n",
    "# argomenti posizionali. Ovvero fà il packing dei parametri\n",
    "# In seguito alla chiamata, la variabile names si riferisce a una tupla che contiene tutti gli argomenti.\n",
    "\n",
    "def say_hello(*names):  # packing dei parametri\n",
    "    print('Hello {}!'.format(', '.join(names)))\n",
    "\n",
    "say_hello('Python')\n",
    "say_hello('Python', 'PyPy', 'Jython', 'IronPython')\n",
    "\n"
   ]
  },
  {
   "cell_type": "markdown",
   "metadata": {},
   "source": [
    "È anche possibile definire una funzione che accetta un numero variabile di argomenti passati per nome (anche noti come keyword argument): basta aggiungere ** immediatamente prima del nome di un parametro (ad esempio **attrs)"
   ]
  },
  {
   "cell_type": "code",
   "execution_count": 35,
   "metadata": {},
   "outputs": [
    {
     "name": "stdout",
     "output_type": "stream",
     "text": [
      "<div id=\"header\">\n",
      "<a href=\"https://www.python.org/\" title=\"Visit Python.org\">\n",
      "<img src=\"logo.png\" alt=\"Python logo\">\n"
     ]
    }
   ],
   "source": [
    "def make_tag(element, **attrs):\n",
    "    attrs = ' '.join(['{}=\"{}\"'.format(k, v) for k, v in attrs.items()])\n",
    "    return '<{} {}>'.format(element, attrs)\n",
    "\n",
    "print(make_tag('div', id='header'))\n",
    "print(make_tag('a', href='https://www.python.org/', title='Visit Python.org'))\n",
    "print(make_tag('img', src='logo.png', alt='Python logo'))\n"
   ]
  },
  {
   "cell_type": "markdown",
   "metadata": {},
   "source": [
    "Per ulteriori info su * e ** :\n",
    "https://www.learnpython.org/en/Multiple_Function_Arguments"
   ]
  },
  {
   "cell_type": "markdown",
   "metadata": {},
   "source": [
    "La parola chiave return viene usata per restituire un valore al chiamante, che può assegnarlo a una variabile o utilizzarlo per altre operazioni\n",
    "Una funzione può contenere 0 o più return, e una volta che un return viene eseguito, la funzione termina immediatamente.\n",
    "return è in genere seguito dal valore di ritorno, ma è anche possibile omettere il valore e usare return per terminare la funzione: in questo caso None viene ritornato automaticamente. \n",
    "Se si raggiunge il termine della funzione senza incontrare neanche un return, None viene restituito automaticamente.\n",
    "\n",
    "Nel caso sia necessario ritornare più valori, è possibile scrivere :\n",
    "    return val1, val2, val3\n",
    "In questo caso il valore ritornato è sempre uno: una singola tupla di 3 elementi\n"
   ]
  },
  {
   "cell_type": "markdown",
   "metadata": {},
   "source": [
    "Tutti i parametri e le variabili create all’interno di una funzione, sono locali alla funzione, cioè possono essere usate solo da codice che si trova all’interno della funzione. Se proviamo ad accedere a queste variabili dall’esterno della funzione otteniamo un NameError\n",
    "\n",
    "Le funzioni possono però accedere in lettura a valori globali\n",
    "\n",
    "Python segue una semplice regola di risoluzione dei nomi:\n",
    " 1 prima verifica se il nome esiste nel namespace locale;\n",
    " 2 se non esiste lo cerca nel namespace globale;\n",
    " 3 se non esiste neanche nel namespace globale, lo cerca tra gli oggetti builtin.\n",
    " 4 Se un nome non è presente neanche tra gli oggetti builtin, Python restituisce un NameError\n"
   ]
  },
  {
   "cell_type": "markdown",
   "metadata": {},
   "source": [
    "# programmazione ad oggetti - Classi"
   ]
  },
  {
   "cell_type": "markdown",
   "metadata": {},
   "source": [
    "usare la parola chiave **class**, seguita dal nome che vogliamo dare alla classe (in questo caso Test), seguita dai due punti (:), seguita infine da un blocco di codice indentato\n",
    "I nomi delle classi generalmente usano il CamelCase\n",
    "Si noti che in Python 2 è importante definire le classi usando la sintassi class Test(object): ... per fare in modo che ereditino da object. In Python 3 tutte le classi ereditano automaticamente da object\n",
    "\n",
    "i metodi devono definire un parametro aggiuntivo che per convenzione è chiamato self\n",
    "self è un argomento che si riferisce all’istanza, e anche se i metodi devono dichiararlo esplicitamente, non è necessario passarlo esplicitamente\n",
    "Il motivo per cui non è necessario passare il self esplicitamente è che l’espressione inst.method() è semplicemente zucchero sintattico per Test.method(inst)\n",
    "Dato che self si riferisce all’istanza, possiamo usarlo per accedere ad altri attributi e metodi definiti all’interno dello classe semplicemente facendo self.attribute o self.metodo()\n"
   ]
  },
  {
   "cell_type": "markdown",
   "metadata": {},
   "source": [
    "### metodi “speciali”\n",
    "\n",
    "__init__\n",
    "__str__\n",
    "__repr__\n",
    "__bool__\n",
    "__len__\n",
    "\n",
    "Le classi supportano anche diversi metodi “speciali” che sono identificati dalla presenza di due underscore prima e dopo del nome. Questi metodi non vengono chiamati direttamente facendo inst.__metodo__, ma vengono in genere chiamati automaticamente in situazioni particolari\n",
    "\n",
    "__init__\n",
    "Uno di questi metodi speciali è __init__, chiamato automaticamente ogni volta che un’istanza viene creata,\n",
    "gli vengono passati anche gli argomenti durante la creazione dell’istanza\n",
    "\n",
    "È anche importante notare che __init__ non equivale ai **costruttori** presenti in altri linguaggi, dato che non crea l’istanza, ma la inizializza solamente\n",
    "\n",
    "__str__ e __repr__\n",
    "Questi due metodi vengono invocati automaticamente quando eseguiamo str(istanza) e repr(istanza), o quando chiamiamo funzioni che eseguono queste operazioni (ad esempio: print(istanza))\n",
    "Entrambi i metodi devono restituire una stringa: la differenza è che __str__ restituisce un valore utile all’utente, mentre __repr__ un valore utile allo sviluppatore\n",
    "\n",
    "def __str__(self):\n",
    "    return '{} {}'.format(self.name, self.surname)\n",
    "\n",
    "def __repr__(self):\n",
    "    return '<Person object ({} {})>'.format(self.name, self.surname\n",
    "\n",
    "__bool__ e __len__\n",
    "Il metodo speciale __bool__ può essere usato per definire se un oggetto è vero o falso, mentre il metodo __len__ può ritornare la lunghezza (o il numero di elementi) di un oggetto\n",
    "Se __bool__ non è definito, Python può usare il risultato di __len__ per determinare se un oggetto è vero o falso (una lunghezza diversa da 0 è considerata vera). Se anche __len__ non è definito, l’oggetto è considerato vero\n",
    "\n",
    "def __bool__(self):\n",
    "    return len(self.members) > 0\n",
    "\n",
    "def __len__(self):\n",
    "    return len(self.members)\n"
   ]
  },
  {
   "cell_type": "markdown",
   "metadata": {},
   "source": [
    "li attributi si possono raggruppare in due categorie:\n",
    " - attributi di istanza (istanza.attributo = valore / self.attributo = valore)\n",
    " - attributi di classe (classe.attributo = valore / attributo = valore)\n",
    " \n",
    "È anche possibile aggiungere o rimuovere attributi dalle istanze, ma generalmente sconsigliato, dato che è preferibile avere gli stessi attributi (anche se con valori diversi) su tutte le istanze della stessa classe\n"
   ]
  },
  {
   "cell_type": "code",
   "execution_count": 36,
   "metadata": {},
   "outputs": [],
   "source": [
    "# ad esempio definiamo una classe che rappresenta un rettangolo generico\n",
    "class Rectangle:\n",
    "    \"\"\"Classe che rappresenta un rettangolo\"\"\"\n",
    "    # attributo di classe\n",
    "    nome_forma = 'Rettangolo'\n",
    "    def __init__(self, base, height):\n",
    "        \"\"\"Initialize the base and height attributes.\"\"\"\n",
    "        self.base = base\n",
    "        self.height = height\n",
    "    def calc_area(self):\n",
    "        \"\"\"Calculate and return the area of the rectangle.\"\"\"\n",
    "        return self.base * self.height\n",
    "    def calc_perimeter(self):\n",
    "        \"\"\"Calculate and return the perimeter of a rectangle.\"\"\"\n",
    "        return (self.base + self.height) * 2\n"
   ]
  },
  {
   "cell_type": "code",
   "execution_count": 37,
   "metadata": {},
   "outputs": [],
   "source": [
    "# Per creare un'oggetto da una classe si scrive il nome della classe passandogli i \n",
    "# parametri specificati nell' __init__ , escluso il self\n",
    "\n",
    "# ad esempio creiamo un'istanza della classe Rectangle con base 3 e altezza 5\n",
    "myrect = Rectangle(3, 5)\n"
   ]
  },
  {
   "cell_type": "code",
   "execution_count": 38,
   "metadata": {},
   "outputs": [
    {
     "name": "stdout",
     "output_type": "stream",
     "text": [
      "base :  3\n",
      "altezza :  5\n",
      "area :  15\n",
      "perimetro :  16\n"
     ]
    }
   ],
   "source": [
    "# gli attributi si invocano senza parentesi mentre le funzioni con le parentesi\n",
    "print('base : ',myrect.base)  # l'istanza ha una base\n",
    "print('altezza : ',myrect.height)  # l'istanza ha un'altezza\n",
    "print('area : ',myrect.calc_area())  # è possibile calcolare l'area direttamente\n",
    "print('perimetro : ',myrect.calc_perimeter())  # e anche il perimetro"
   ]
  },
  {
   "cell_type": "code",
   "execution_count": 39,
   "metadata": {},
   "outputs": [],
   "source": [
    "# è possibile accedere agli attributi anche con dei metodi python :\n",
    "# getattr(obj, name[, default]) # chiama l'attributo\n",
    "# hasattr(obj,name)             # controlla se ha l'attributo\n",
    "# setattr(obj,name,value)       # setta un'attributo, nel caso non ci sia lo crea\n",
    "# delattr(obj, name)            # cancella un'attributo"
   ]
  },
  {
   "cell_type": "markdown",
   "metadata": {},
   "source": [
    "### Built-In Class Attributes\n",
    "Ogni classe ha una serie di attributi standard :\n",
    " - \\_\\_dict__ che contiene il namespace della classe\n",
    " - \\_\\_doc__ documentazione della classe, se c'è\n",
    " - \\_\\_name__ nome della classe\n",
    " - \\_\\_module__ modulo della classe in cui è definita la classe. Valorizzato a \"\\_\\_main__\" in caso di modalità interattiva\n",
    " - \\_\\_bases__ tupla contenente le classi basi\n",
    " "
   ]
  },
  {
   "cell_type": "code",
   "execution_count": 40,
   "metadata": {},
   "outputs": [
    {
     "name": "stdout",
     "output_type": "stream",
     "text": [
      "Rectangle.__doc__: Classe che rappresenta un rettangolo\n",
      "Rectangle.__name__: Rectangle\n",
      "Rectangle.__module__: __main__\n",
      "Rectangle.__bases__: (<class 'object'>,)\n",
      "Rectangle.__dict__: {'__module__': '__main__', '__doc__': 'Classe che rappresenta un rettangolo', 'nome_forma': 'Rettangolo', '__init__': <function Rectangle.__init__ at 0x00000228ED033040>, 'calc_area': <function Rectangle.calc_area at 0x00000228ED0330D0>, 'calc_perimeter': <function Rectangle.calc_perimeter at 0x00000228ED033160>, '__dict__': <attribute '__dict__' of 'Rectangle' objects>, '__weakref__': <attribute '__weakref__' of 'Rectangle' objects>}\n"
     ]
    }
   ],
   "source": [
    "print(\"Rectangle.__doc__:\", Rectangle.__doc__)\n",
    "print(\"Rectangle.__name__:\", Rectangle.__name__)\n",
    "print(\"Rectangle.__module__:\", Rectangle.__module__)\n",
    "print(\"Rectangle.__bases__:\", Rectangle.__bases__)\n",
    "print(\"Rectangle.__dict__:\", Rectangle.__dict__)"
   ]
  },
  {
   "cell_type": "markdown",
   "metadata": {},
   "source": [
    "### Ereditarietà\n",
    "L’ereditarietà ci permette di creare una nuova classe a partire da una classe esistente e di estenderla o modificarla.\n",
    "\n",
    "Python supporta anche l’ereditarietà multipla: è possibile definire nuovi classi che ereditano metodi e attributi da diverse altre classi, combinandoli.\n",
    "\n",
    "Genericamente :\n",
    "__class SubClassName (ParentClass1[, ParentClass2, ...]):__\n",
    "\n",
    "Se la classe Cane eredita dalla classe Mamminfero, possiamo dire che Mamminfero è la superclasse (o classe base – base class in inglese) mentre Cane è la sottoclasse (o subclasse).\n",
    "\n",
    "per definire una sottoclasse basta usare la sintassi class SottoClasse(SuperClasse): ... o class SottoClasse(SuperClasse1, SuperClasse2, ...): ... nel caso dell’eredità multipla\n",
    "La sottoclasse erediterà automaticamente tutti i metodi e gli attributi definiti dalla classe base (o superclasse)\n",
    "\n",
    "In Python, le classi ci permettono anche di ridefinire il comportamento degli operatori: questa operazione è chiamata **overloading** degli operatori.\n",
    "\n",
    "super() restituisce un riferimento alla classe base, serve per accedere ai metodi definiti nella classe base\n"
   ]
  },
  {
   "cell_type": "code",
   "execution_count": 41,
   "metadata": {},
   "outputs": [],
   "source": [
    "class Person:\n",
    "    # definiamo un __init__ che assegna nome e cognome all'istanza\n",
    "    def __init__(self, name, surname):\n",
    "        self.name = name\n",
    "        self.surname = surname\n",
    "    # definiamo un metodo \"eat\" che stampa un messaggio\n",
    "    def eat(self, food):\n",
    "        print(self.name, 'is eating', food)\n",
    "    # definiamo un metodo \"sleep\" che stampa un messaggio\n",
    "    def sleep(self):\n",
    "        print(self.name, 'is sleeping')\n",
    "        \n",
    "        \n",
    "# definiamo una classe Employee che eredita da Person\n",
    "class Employee(Person):\n",
    "    # definiamo un nuovo __init__ che accetta nome/cognome/lavoro\n",
    "    def __init__(self, name, surname, job):\n",
    "        # chiamiamo l'__init__ della classe base (o superclasse)\n",
    "        # che assegna nome e cognome all'istanza\n",
    "        super().__init__(name, surname)\n",
    "        # assegniamo il lavoro all'istanza\n",
    "        self.job = job\n",
    "    # definiamo un metodo aggiuntivo che stampa un messaggio\n",
    "    def work(self):\n",
    "        print(self.name, 'is working as a', self.job)        \n",
    "        \n",
    "        "
   ]
  },
  {
   "cell_type": "markdown",
   "metadata": {},
   "source": [
    "Si può usare issubclass() o isinstance() per verificare la relazione tra due classi e istanze.\n",
    " - La funzione issubclass(sub, sup) ritorna true se la classe sub è una sottoclasse della superclasse sup.\n",
    " - La funzione isinstance(obj, Class) ritorna true se obj è una instanza della classe Class o di una sua sottoclasse."
   ]
  },
  {
   "cell_type": "markdown",
   "metadata": {},
   "source": [
    "### overloading degli operatori\n",
    "Fare l’overloading degli operatori significa definire (o ridefinire) il comportamento di un operatore durante l’interazione con un’istanza di una classe che abbiamo creato in precedenza. Questo ci permette di definire cosa succede quando, ad esempio, utilizziamo una sintassi del tipo istanza1 + istanza2\n",
    "\n",
    "operatori aritmetici  +, -, *, /, //, %\n",
    "operatori di confronto  ==, !=, <, <=, >, >= \n",
    "operatori binari <<, >>, &, |, ^, ~ \n",
    "operatori di contenimento in e not in\n",
    "operatori di indexing (oggetto[indice]) \n",
    "operatori di accesso a attributi (oggetto.attributo)\n",
    "\n",
    "Per ognuno di questi operatori esiste un corrispondente metodo speciale, che può essere definito per specificare il risultato dell’operazione. \n",
    "Per diversi operatori esistono anche due tipi aggiuntivi di metodi speciali, la versione speculare e quella in place. \n",
    "Ad esempio, l’operatore + ha tre metodi speciali:\n",
    "\n",
    "__add__: quando eseguiamo istanza + valore, viene in realtà eseguito il metodo istanza.__add__(valore);\n",
    "__radd__: quando eseguiamo valore + istanza, e il valore non definisce un metodo __add__ compatibile con la nostra istanza, viene eseguito il metodo istanza.__radd__(valore);\n",
    "__iadd__: quando eseguiamo istanza += valore, viene eseguito istanza.__iadd__(valore), permettendoci di modificare l’istanza in place.\n",
    "\n"
   ]
  },
  {
   "cell_type": "code",
   "execution_count": 42,
   "metadata": {},
   "outputs": [
    {
     "name": "stdout",
     "output_type": "stream",
     "text": [
      "<Team object [Guido, Tim]>\n",
      "<Team object [Alex, Ezio]>\n",
      "True\n",
      "False\n",
      "True\n",
      "<Team object [Guido, Tim, Ezio]>\n",
      "<Team object [Guido, Tim]>\n",
      "<Team object [Guido, Tim, Ezio]>\n",
      "<Team object [Guido, Tim, Alex, Ezio]>\n",
      "<Team object [Alex, Ezio, Guido, Tim]>\n",
      "<Team object [Guido, Tim]>\n",
      "<Team object [Guido, Tim, Ezio]>\n",
      "<Team object [Alex, Tim]>\n",
      "<Team object [Alex, Tim, Guido, Ezio]>\n"
     ]
    }
   ],
   "source": [
    "class Team:\n",
    "    # definiamo un __init__ che assegna i membri all'istanza\n",
    "    def __init__(self, members):\n",
    "        self.members = members\n",
    "    # definiamo un __repr__ che restituisce il tipo dell'oggetto\n",
    "    # e i nomi dei membri del team\n",
    "    def __repr__(self):\n",
    "        names = ', '.join([p.name for p in self.members])\n",
    "        return '<Team object [{}]>'.format(names)\n",
    "    # definiamo un __contains__ che restituisce True se un membro\n",
    "    # fa parte del team, altrimenti False\n",
    "    def __contains__(self, other):\n",
    "        return other in self.members\n",
    "    # definiamo un __add__ che restituisce un nuovo team creato\n",
    "    # dall'aggiunta di una nuova persona o dall'unione di 2 team\n",
    "    def __add__(self, other):\n",
    "        if isinstance(other, Person):\n",
    "            return Team(self.members + [other])\n",
    "        elif isinstance(other, Team):\n",
    "            return Team(self.members + other.members)\n",
    "        else:\n",
    "            raise TypeError(\"Can't add Team with {!r}.\".format(other))\n",
    "    # definiamo un __radd__ che è uguale ad __add__, visto che\n",
    "    # l'addizione è un'operazione commutativa\n",
    "    __radd__ = __add__\n",
    "    # definiamo un __iadd__ che modifica il team aggiungendo una\n",
    "    # nuova persona o i membri di un altro team al team corrente\n",
    "    def __iadd__(self, other):\n",
    "        if isinstance(other, Person):\n",
    "            self.members.append(other)\n",
    "            return self\n",
    "        elif isinstance(other, Team):\n",
    "            self.members.extend(other.members)\n",
    "            return self\n",
    "        else:\n",
    "            raise TypeError(\"Can't add {!r} to the team.\".format(other))\n",
    "\n",
    "            \n",
    "# creiamo 4 istanze di Person\n",
    "guido = Person('Guido', 'van Rossum')\n",
    "tim = Person('Tim', 'Peters')\n",
    "alex = Person('Alex', 'Martelli')\n",
    "ezio = Person('Ezio', 'Melotti')\n",
    "\n",
    "# creiamo 2 team da 2 persone per team\n",
    "t1 = Team([guido, tim])\n",
    "t2 = Team([alex, ezio])\n",
    "\n",
    "# verifichiamo i membri dei 2 team\n",
    "print(t1)\n",
    "print(t2)\n",
    "\n",
    "\n",
    "# verifichiamo l'overloading dell'operatore in\n",
    "print(guido in t1)\n",
    "\n",
    "print(ezio in t1)\n",
    "\n",
    "print(ezio not in t1)\n",
    "\n",
    "\n",
    "# verifichiamo l'overloading dell'operatore + (__add__)\n",
    "# sommando un'istanza di Team con una di Person\n",
    "print(t1 + ezio)\n",
    "\n",
    "# verifichiamo che l'operazione ha restituito\n",
    "# un nuovo team, e che t1 non è cambiato\n",
    "print(t1)\n",
    "\n",
    "# verifichiamo l'overloading dell'operatore + (__radd__)            \n",
    "# sommando un'istanza di Person con una di Team\n",
    "print(ezio + t1)\n",
    "\n",
    "# verifichiamo l'overloading dell'operatore + (__add__)\n",
    "# sommando due istanze di Team\n",
    "print(t1 + t2)\n",
    "print(t2 + t1)\n",
    "\n",
    "# verifichiamo che t1 contiene 2 membri\n",
    "print(t1)\n",
    "\n",
    "# verifichiamo l'overloading dell'operatore += (__iadd__)\n",
    "# aggiungendo un'istanza di Person al Team t1\n",
    "t1 += ezio\n",
    "\n",
    "# verifichiamo che t1 è stato modificato\n",
    "print(t1)\n",
    "\n",
    "# creiamo altre 2 istanze di Team\n",
    "t3 = Team([alex, tim])\n",
    "t4 = Team([guido, ezio])\n",
    "\n",
    "# verifichiamo che t3 contiene 2 membri\n",
    "print(t3)\n",
    "\n",
    "# verifichiamo l'overloading dell'operatore += (__iadd__)\n",
    "# aggiungendo un'istanza di Team al Team t3\n",
    "t3 += t4\n",
    "\n",
    "# verifichiamo che t3 è stato modificato\n",
    "print(t3)\n",
    "\n",
    "# verifichiamo che aggiungere un tipo incompatibile\n",
    "# ci restituisce un TypeError\n",
    "#t3 + 5\n"
   ]
  },
  {
   "cell_type": "markdown",
   "metadata": {},
   "source": [
    "+\taddizione\t__add__, __radd__, __iadd__\n",
    "–\tsottrazione\t__sub__, __rsub__, __isub__\n",
    "*\tmoltiplicazione\t__mul__, __rmul__, __imul__\n",
    "/\tdivisione\t__truediv__, __rtruediv__, __itruediv__\n",
    "//\tdivisione intera\t__floordiv__, __rfloordiv__, __ifloordiv__\n",
    "%\tmodulo (resto della divisione)\t__mod__, __rmod__, __imod__\n",
    "\n",
    "==\tuguale a\t__eq__\n",
    "!=\tdiverso da\t__ne__\n",
    "<\tminore di\t__lt__\n",
    "<=\tminore o uguale a\t__le__\n",
    ">\tmaggiore di\t__gt__\n",
    ">=\tmaggiore o uguale a\t__ge__\n",
    "\n",
    "\n",
    "x << n\tesegue uno shift a sinistra di n posizioni dei bit di x\t__lshift__, __rlshift__, __ilshift__\n",
    "x >> n\tesegue uno shift a destra di n posizioni dei bit di x\t__rshift__, __rrshift__, __irshift__\n",
    "x & y\tesegue un and tra i bit di x e di y\t__and__, __rand__, __iand__\n",
    "x | y\tesegue un or tra i bit di x e di y\t__or__, __ror__, __ior__\n",
    "x ^ y\tesegue un or esclusivo tra i bit di x e di y\t__xor__, __rxor__, __ixor__\n",
    "\n",
    "object[item]\t        accesso a un elemento\t__getitem__\n",
    "object[item] = value\tassegnamento a un elemento\t__setitem__\n",
    "del object[item]\t    rimozione di un elemento\t__delitem__\n",
    "object.attr\t            accesso a un attributo\t__getattr__\n",
    "object.attr = value\t    assegnamento a un attributo\t__setattr__\n",
    "del object.attr\t        rimozione di un attributo\t__delattr__\n",
    "\n",
    "Esistono infine altri metodi speciali meno comuni, che per brevità non sono inclusi in questa guida, ma che si possono trovare nella documentazione ufficiale sui metodi speciali."
   ]
  },
  {
   "cell_type": "markdown",
   "metadata": {},
   "source": [
    "### Metodi di base di cui è possibile fare overloading \n",
    "\n",
    "__init__ ( self [,args...] )\n",
    "Costruttore (con qualsiasi argomento opzionale)\n",
    "Chiamata di esempio : obj = className(args)\n",
    "\n",
    "__del__( self )\n",
    "Distruttore, cancella un'oggetto\n",
    "Chiamata di esempio : del obj\n",
    "\n",
    "__repr__( self )\n",
    "\"Valore\" della stringa \n",
    "Chiamata di esempio : repr(obj)\n",
    "\n",
    "__str__( self )\n",
    "Rappresentazione del contenuto della stringa in forma \"umana\"\n",
    "Chiamata di esempio : str(obj)\n",
    "\n",
    "__cmp__ ( self, x )\n",
    "Comparazione degli oggetti\n",
    "Chiamata di esempio : cmp(obj, x)\n"
   ]
  },
  {
   "cell_type": "code",
   "execution_count": 43,
   "metadata": {},
   "outputs": [
    {
     "name": "stdout",
     "output_type": "stream",
     "text": [
      "Vector (7, 8)\n"
     ]
    }
   ],
   "source": [
    "class Vector:\n",
    "   def __init__(self, a, b):\n",
    "      self.a = a\n",
    "      self.b = b\n",
    "\n",
    "   def __str__(self):\n",
    "      return 'Vector (%d, %d)' % (self.a, self.b)\n",
    "   \n",
    "   def __add__(self,other):\n",
    "      return Vector(self.a + other.a, self.b + other.b)\n",
    "\n",
    "v1 = Vector(2,10)\n",
    "v2 = Vector(5,-2)\n",
    "print(v1 + v2)"
   ]
  },
  {
   "cell_type": "markdown",
   "metadata": {},
   "source": [
    "# yield\n",
    "\n",
    "La parola chiave yield è un’istruzione Python usata per definire le funzioni del generatore in Python. L’istruzione yield può essere utilizzata solo all’interno del corpo della funzione.\n",
    "\n",
    "La principale differenza tra una funzione generatore e una funzione regolare è che la funzione generatore contiene un’espressione yield invece dell’istruzione return. L’istruzione yield produce come output la serie di valori chiamata iteratore generatore. Nuovi valori dall’iteratore possono essere recuperati usando la funzione next() o il ciclo for.\n",
    "\n",
    "Ogni volta che viene chiamata la funzione next() o ad ogni iterazione del ciclo for, l’istruzione yield restituisce o produce un nuovo valore e salva lo stato di esecuzione della posizione della funzione cioè i valori delle variabili locali, ecc. Ad ogni nuova chiamata o iterazione di funzione next(), l’istruzione yield riprende dall’ultimo stato salvato, a differenza dell’istruzione return che inizia ad ogni chiamata.\n",
    "\n",
    "Supponiamo di avere una grande quantità di dati e che non possa essere caricata contemporaneamente in un oggetto iterabile, o di voler leggere i dati in modo più efficiente in termini di memoria. Possiamo creare una funzione generatore utilizzando l’istruzione yield; la funzione leggerà e produrrà il nuovo blocco di dati ad ogni iterazione o chiamata di funzione next()\n"
   ]
  },
  {
   "cell_type": "code",
   "execution_count": 44,
   "metadata": {},
   "outputs": [
    {
     "name": "stdout",
     "output_type": "stream",
     "text": [
      "nuovo valore generato (1)\n",
      "Lettura valore con NEXT :  1\n",
      "nuovo valore generato (2)\n",
      "Lettura valore con NEXT :  2\n",
      "nuovo valore generato (3)\n",
      "Lettura valore con FOR :  3\n",
      "nuovo valore generato (4)\n",
      "Lettura valore con FOR :  4\n",
      "nuovo valore generato (5)\n",
      "Lettura valore con FOR :  5\n"
     ]
    }
   ],
   "source": [
    "def my_generator():\n",
    "    for x in range(1, 6):\n",
    "        print(\"nuovo valore generato ({})\".format(x))\n",
    "        yield x\n",
    "        \n",
    "gen_iter = my_generator()\n",
    "\n",
    "print(\"Lettura valore con NEXT : \", next(gen_iter))\n",
    "print(\"Lettura valore con NEXT : \", next(gen_iter))\n",
    "\n",
    "for val in gen_iter:\n",
    "    print(\"Lettura valore con FOR : \", val)  "
   ]
  },
  {
   "cell_type": "markdown",
   "metadata": {},
   "source": [
    "# List comprehension - Comprensione di lista\n",
    "Una Comprensione di lista (in inglese: list comprehension) è costrutto sintattico disponibile in alcuni linguaggi di programmazione per creare una lista basandosi su altre liste\n",
    "\n"
   ]
  },
  {
   "cell_type": "code",
   "execution_count": 62,
   "metadata": {},
   "outputs": [
    {
     "name": "stdout",
     "output_type": "stream",
     "text": [
      "[34.6, 44.9, 68.3, 44.6, 12.7]\n",
      "[34.6, 44.9, 68.3, 44.6, 12.7]\n"
     ]
    }
   ],
   "source": [
    "# se vogliamo creare una nuova lista con soli positivi\n",
    "numbers = [34.6, -203.4, 44.9, 68.3, -12.2, 44.6, 12.7]\n",
    "if 'myVar' in locals():\n",
    "    newlist.clear() # pulisco solo per evitare doppi run con più elementi ma nel codice non è richiesto\n",
    "else:\n",
    "    newlist = []\n",
    "for n in numbers:\n",
    "    if n > 0:\n",
    "        newlist.append(n)\n",
    "print(newlist)\n",
    "\n",
    "# se vogliamo creare una nuova lista con soli positivi con la Comprensione di lista :\n",
    "numbers = [34.6, -203.4, 44.9, 68.3, -12.2, 44.6, 12.7]\n",
    "newlistCL = [n for n in numbers if n>0]\n",
    "print(newlistCL)"
   ]
  },
  {
   "cell_type": "markdown",
   "metadata": {},
   "source": [
    "# Gestione errori - try catch"
   ]
  },
  {
   "cell_type": "code",
   "execution_count": 63,
   "metadata": {},
   "outputs": [
    {
     "name": "stdout",
     "output_type": "stream",
     "text": [
      "1\n",
      "2\n",
      "3\n",
      "4\n",
      "5\n",
      "0\n",
      "0\n",
      "0\n",
      "0\n",
      "0\n",
      "0\n",
      "0\n",
      "0\n",
      "0\n",
      "0\n",
      "0\n",
      "0\n",
      "0\n",
      "0\n",
      "0\n"
     ]
    }
   ],
   "source": [
    "def do_stuff_with_number(n):\n",
    "    print(n)\n",
    "\n",
    "def catch_this():\n",
    "    the_list = (1, 2, 3, 4, 5)\n",
    "\n",
    "    for i in range(20):\n",
    "        try:\n",
    "            do_stuff_with_number(the_list[i])\n",
    "        except IndexError: # Raised when accessing a non-existing index of a list\n",
    "            do_stuff_with_number(0)\n",
    "\n",
    "catch_this()"
   ]
  },
  {
   "cell_type": "markdown",
   "metadata": {},
   "source": [
    "# Distruzione Oggetti (Garbage Collection)\n",
    "\n",
    "la garbage collection cancella un'oggetto quando i suoi riferimenti sono pari a 0.\n"
   ]
  },
  {
   "cell_type": "code",
   "execution_count": 64,
   "metadata": {},
   "outputs": [
    {
     "name": "stdout",
     "output_type": "stream",
     "text": [
      "2374797582144 2374797582144 2374797582144\n",
      "Point destroyed\n"
     ]
    }
   ],
   "source": [
    "#classe di esempio \n",
    "class Point:\n",
    "   def __init__( self, x=0, y=0): # \"costruttore\"\n",
    "      self.x = x\n",
    "      self.y = y\n",
    "    \n",
    "   def __del__(self):  # \"distruttore\"\n",
    "      class_name = self.__class__.__name__  # prelevo il nome della class\n",
    "      print(class_name, \"destroyed\")  # print del nome\n",
    "\n",
    "pt1 = Point()  # creo oggetto\n",
    "pt2 = pt1      # creo primo riferimento\n",
    "pt3 = pt1      # creo secondo riferimento\n",
    "print(id(pt1), id(pt2), id(pt3)) # print degli id degli oggetti\n",
    "del pt1     # cancello oggetto \n",
    "del pt2     # cancello primo riferimento \n",
    "del pt3     # cancello secondo riferimento "
   ]
  },
  {
   "cell_type": "code",
   "execution_count": null,
   "metadata": {},
   "outputs": [],
   "source": []
  }
 ],
 "metadata": {
  "kernelspec": {
   "display_name": "Python 3",
   "language": "python",
   "name": "python3"
  },
  "language_info": {
   "codemirror_mode": {
    "name": "ipython",
    "version": 3
   },
   "file_extension": ".py",
   "mimetype": "text/x-python",
   "name": "python",
   "nbconvert_exporter": "python",
   "pygments_lexer": "ipython3",
   "version": "3.8.5"
  }
 },
 "nbformat": 4,
 "nbformat_minor": 4
}
